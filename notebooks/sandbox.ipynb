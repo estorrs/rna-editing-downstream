{
 "cells": [
  {
   "cell_type": "code",
   "execution_count": 1,
   "metadata": {},
   "outputs": [],
   "source": [
    "import sys\n",
    "sys.path.insert(0, '../rna-editing-downstream')"
   ]
  },
  {
   "cell_type": "code",
   "execution_count": 2,
   "metadata": {},
   "outputs": [],
   "source": [
    "import os\n",
    "import re\n",
    "import subprocess\n",
    "import uuid"
   ]
  },
  {
   "cell_type": "code",
   "execution_count": 3,
   "metadata": {},
   "outputs": [],
   "source": [
    "import bam_utils"
   ]
  },
  {
   "cell_type": "code",
   "execution_count": 4,
   "metadata": {},
   "outputs": [],
   "source": [
    "INPUT_BAM_FP = '../tests/data/C3N-00435.chr1.filtered.bam'\n",
    "INPUT_ANNOTATED_VAF = '../tests/data/C3N-00435.chr1.tsv'\n",
    "REFERENCE_FASTA = '/gscmnt/gc2686/rna_editing/data/reference/gdc/GRCh38.d1.vd1.fa'"
   ]
  },
  {
   "cell_type": "code",
   "execution_count": 5,
   "metadata": {},
   "outputs": [],
   "source": [
    "def get_position_to_data_dict(input_rna_editing_vaf, has_header=False):\n",
    "    f = open(input_rna_editing_vaf)\n",
    "    \n",
    "    if has_header:\n",
    "        f.readline()\n",
    "    \n",
    "    input_types = ['dna.a', 'dna.t', 'rna.a', 'rna.t']\n",
    "    fields = ['depth', 'ref_vaf', 'minor_vaf', 'a_vaf', 'c_vaf', 'g_vaf', 't_vaf', 'n_vaf']\n",
    "    annotations = ['primary_transcript', 'gene', 'strand', 'region', 'non_verbose_region', 'info', \n",
    "                   'repeat_name', 'repeat_class', 'repeat_family', 'blat_percent_passing']\n",
    "    \n",
    "    position_to_data_dict = {}\n",
    "   \n",
    "    for line in f:\n",
    "        pieces = line.strip().split('\\t')\n",
    "        chrom, pos, ref_base = pieces[0], pieces[1], pieces[2]\n",
    "        \n",
    "        data_dict = {'ref_base': ref_base}\n",
    "        data_dict.update({k:{} for k in input_types})\n",
    "        for i, input_type in enumerate(input_types):\n",
    "            for j, field in enumerate(fields):\n",
    "                index = 3 + (len(fields) * i) + j\n",
    "                val = pieces[index]\n",
    "                if field == 'depth':\n",
    "                    val = int(val)\n",
    "                elif val.isdecimal():\n",
    "                    val = float(val)\n",
    "                \n",
    "                data_dict[input_type][field] = val\n",
    "    \n",
    "        for i, annotation in enumerate(annotations):\n",
    "            index = 3 + (len(fields) * len(input_types)) + i\n",
    "            val = pieces[index]\n",
    "            if val.isdecimal():\n",
    "                val = float(val)\n",
    "            elif val.isdigit():\n",
    "                val = int(val)\n",
    "\n",
    "            data_dict[annotation] = val\n",
    "        \n",
    "        position_to_data_dict[(chrom, pos)] = data_dict\n",
    "    \n",
    "    return position_to_data_dict"
   ]
  },
  {
   "cell_type": "code",
   "execution_count": 6,
   "metadata": {},
   "outputs": [],
   "source": [
    "position_to_data_dict = get_position_to_data_dict(INPUT_ANNOTATED_VAF, has_header=True)"
   ]
  },
  {
   "cell_type": "code",
   "execution_count": 7,
   "metadata": {},
   "outputs": [],
   "source": [
    "def write_positions_bed(chrom_pos_tups, output_fp):\n",
    "    f = open(output_fp, 'w')\n",
    "    for chrom, pos in chrom_pos_tups:\n",
    "        f.write(f'{chrom}\\t{pos}\\t{pos}\\n')\n",
    "    f.close()\n",
    "\n",
    "def write_regions_file(chrom_start_stop_tups, output_fp):\n",
    "    f = open(output_fp, 'w')\n",
    "    for chrom, start, stop in chrom_start_stop_tups:\n",
    "        f.write(f'{chrom}:{start}-{stop}\\n')\n",
    "    f.close()"
   ]
  },
  {
   "cell_type": "code",
   "execution_count": 8,
   "metadata": {},
   "outputs": [],
   "source": [
    "chrom_pos_tups = sorted(set(position_to_data_dict.keys()))\n",
    "u_id = str(uuid.uuid4())\n",
    "temp_positions_fp = f'temp.positions.{u_id}.bed'\n",
    "write_positions_bed(chrom_pos_tups, temp_positions_fp)"
   ]
  },
  {
   "cell_type": "code",
   "execution_count": 9,
   "metadata": {},
   "outputs": [],
   "source": [
    "read_tups = bam_utils.get_chrom_start_cigar_seq_read_tups(INPUT_BAM_FP, temp_positions_fp)"
   ]
  },
  {
   "cell_type": "code",
   "execution_count": 10,
   "metadata": {},
   "outputs": [
    {
     "data": {
      "text/plain": [
       "(236, 13079)"
      ]
     },
     "execution_count": 10,
     "metadata": {},
     "output_type": "execute_result"
    }
   ],
   "source": [
    "len(chrom_pos_tups), len(read_tups)"
   ]
  },
  {
   "cell_type": "code",
   "execution_count": 11,
   "metadata": {},
   "outputs": [],
   "source": [
    "u_id = str(uuid.uuid4())\n",
    "temp_regions_fp = f'temp.regions.{u_id}.txt'\n",
    "chrom_start_stop_tups = [(chrom, *bam_utils.get_covering_reference_coords(int(pos), cigar, seq))\n",
    "                        for chrom, pos, cigar, seq in read_tups]\n",
    "write_regions_file(chrom_start_stop_tups, temp_regions_fp)"
   ]
  },
  {
   "cell_type": "code",
   "execution_count": 12,
   "metadata": {},
   "outputs": [],
   "source": [
    "def get_read_to_reference_seq(read_tups, regions_fp, reference_fasta):\n",
    "    tool_args = ['samtools', 'faidx', '-r', regions_fp, reference_fasta]\n",
    "    output = subprocess.check_output(tool_args).decode('utf-8')\n",
    "    read_to_reference_sequence = bam_utils.get_reads_to_sequences_from_fasta_stream(output)\n",
    "    \n",
    "    read_tups_to_reference_seqs = {}\n",
    "    for chrom, pos, cigar, seq in read_tups:\n",
    "        end = bam_utils.get_covering_reference_coords(int(pos), cigar, seq)[1]\n",
    "        reference_seq = read_to_reference_sequence[f'{chrom}:{pos}-{end}']\n",
    "        read_tups_to_reference_seqs[(chrom, pos, cigar, seq)] = reference_seq\n",
    "    \n",
    "    return read_tups_to_reference_seqs"
   ]
  },
  {
   "cell_type": "code",
   "execution_count": 13,
   "metadata": {},
   "outputs": [],
   "source": [
    "read_tups_to_reference_seq = get_read_to_reference_seq(read_tups, temp_regions_fp, REFERENCE_FASTA)"
   ]
  },
  {
   "cell_type": "code",
   "execution_count": 14,
   "metadata": {},
   "outputs": [
    {
     "data": {
      "text/plain": [
       "6241"
      ]
     },
     "execution_count": 14,
     "metadata": {},
     "output_type": "execute_result"
    }
   ],
   "source": [
    "len(read_tups_to_reference_seq)"
   ]
  },
  {
   "cell_type": "code",
   "execution_count": 15,
   "metadata": {},
   "outputs": [],
   "source": [
    "rc = bam_utils.ReadCollection(chrom_pos_tups)\n",
    "for chrom, pos, cigar, seq in read_tups:\n",
    "    rc.put_read(chrom, pos, cigar, seq,\n",
    "                reference_sequence=read_tups_to_reference_seq[(chrom, pos, cigar, seq)])"
   ]
  },
  {
   "cell_type": "code",
   "execution_count": 25,
   "metadata": {},
   "outputs": [],
   "source": [
    "def get_average_base_changes_on_changed_reads(chrom, pos, data_dict, read_collection_reads):\n",
    "    totals = []\n",
    "    for read_chrom, read_start, read_cigar, read_seq, read_dict in read_collection_reads:\n",
    "        reference_seq = read_dict['reference_sequence']\n",
    "        \n",
    "        if not bam_utils.is_match(int(read_start), int(pos), read_cigar, read_seq, reference_seq):\n",
    "            totals.append(bam_utils.count_mismatches(read_cigar, read_seq, reference_seq))\n",
    "\n",
    "    if totals:\n",
    "        return sum(totals) / len(totals)\n",
    "    return '.'\n",
    "\n",
    "def get_average_base_changes_on_all_reads(chrom, pos, data_dict, read_collection_reads):\n",
    "    totals = []\n",
    "    for read_chrom, read_start, read_cigar, read_seq, read_dict in read_collection_reads:\n",
    "        reference_seq = read_dict['reference_sequence']\n",
    "        \n",
    "        totals.append(bam_utils.count_mismatches(read_cigar, read_seq, reference_seq))\n",
    "\n",
    "    if totals:\n",
    "        return sum(totals) / len(totals)\n",
    "    return '.'\n",
    "\n",
    "def get_average_rna_editing_base_changes_on_changed_reads(chrom, pos, data_dict, read_collection_reads):\n",
    "    totals = []\n",
    "    for read_chrom, read_start, read_cigar, read_seq, read_dict in read_collection_reads:\n",
    "        reference_seq = read_dict['reference_sequence']\n",
    "        strand = data_dict['strand']\n",
    "        \n",
    "        if strand != '+' and strand != '-':\n",
    "            return '.'\n",
    "        \n",
    "        if not bam_utils.is_match(int(read_start), int(pos), read_cigar, read_seq, reference_seq):\n",
    "            totals.append(bam_utils.count_valid_rna_editing_mismatches(\n",
    "                    read_cigar, read_seq, reference_seq, strand))\n",
    "\n",
    "    if totals:\n",
    "        return sum(totals) / len(totals)\n",
    "    return '.'\n",
    "\n",
    "def get_average_rna_editing_base_changes_on_all_reads(chrom, pos, data_dict, read_collection_reads):\n",
    "    totals = []\n",
    "    for read_chrom, read_start, read_cigar, read_seq, read_dict in read_collection_reads:\n",
    "        reference_seq = read_dict['reference_sequence']\n",
    "        strand = data_dict['strand']\n",
    "        \n",
    "        if strand != '+' and strand != '-':\n",
    "            return '.'\n",
    "        \n",
    "        totals.append(bam_utils.count_valid_rna_editing_mismatches(\n",
    "                read_cigar, read_seq, reference_seq, strand))\n",
    "\n",
    "    if totals:\n",
    "        return sum(totals) / len(totals)\n",
    "    return '.'\n",
    "\n",
    "def get_percent_altered_reads_valid_editing_changes(chrom, pos, data_dict, read_collection_reads):\n",
    "    count = 0\n",
    "    total = 0\n",
    "    for read_chrom, read_start, read_cigar, read_seq, read_dict in read_collection_reads:\n",
    "        reference_seq = read_dict['reference_sequence']\n",
    "        strand = data_dict['strand']\n",
    "        \n",
    "        if strand != '+' and strand != '-':\n",
    "            return '.'\n",
    "        \n",
    "        if not bam_utils.is_match(int(read_start), int(pos), read_cigar, read_seq, reference_seq):\n",
    "            if bam_utils.is_valid_rna_editing_site(int(read_start), int(pos),\n",
    "                                                   read_cigar, read_seq, reference_seq, strand):\n",
    "                count += 1\n",
    "            total += 1\n",
    "\n",
    "    if total:\n",
    "        return count / total\n",
    "    return '.'\n",
    "\n",
    "\n",
    "def get_percent_reads_valid_editing_changes(chrom, pos, data_dict, read_collection_reads):\n",
    "    count = 0\n",
    "    total = 0\n",
    "    for read_chrom, read_start, read_cigar, read_seq, read_dict in read_collection_reads:\n",
    "        reference_seq = read_dict['reference_sequence']\n",
    "        strand = data_dict['strand']\n",
    "        \n",
    "        if strand != '+' and strand != '-':\n",
    "            return '.'\n",
    "        \n",
    "        count += bam_utils.count_valid_rna_editing_mismatches(\n",
    "                    read_cigar, read_seq, reference_seq, strand)\n",
    "        total += bam_utils.count_mismatches(read_cigar, read_seq, reference_seq)\n",
    "\n",
    "    if total:\n",
    "        return count / total\n",
    "    return '.'\n",
    "\n",
    "def get_annotations(read_collection, position_to_data_dict):\n",
    "    position_to_annotations = {}\n",
    "    for (chrom, pos), data_dict in position_to_data_dict.items():\n",
    "        reads = read_collection.get_reads(chrom, int(pos))\n",
    "        annotations = {}\n",
    "        \n",
    "        annotations['AVG_CHANGES_PER_ALTERED_READ'] = get_average_base_changes_on_changed_reads(chrom,\n",
    "                pos, data_dict, reads)\n",
    "        \n",
    "        annotations['AVG_CHANGES_PER_READ'] = get_average_base_changes_on_all_reads(chrom,\n",
    "                pos, data_dict, reads)\n",
    "        \n",
    "        annotations['AVG_EDITING_CHANGES_PER_ALTERED_READ'] = get_average_rna_editing_base_changes_on_changed_reads(\n",
    "                chrom, pos, data_dict, reads)\n",
    "                \n",
    "        annotations['AVG_EDITING_CHANGES_PER_READ'] = get_average_rna_editing_base_changes_on_all_reads(\n",
    "          chrom, pos, data_dict, reads)\n",
    "        \n",
    "        annotations['ALTERED_SITE_%_VALID_EDITING'] = get_percent_altered_reads_valid_editing_changes(\n",
    "          chrom, pos, data_dict, reads)\n",
    "\n",
    "        annotations['ALL_CHANGES_%_VALID_EDITING'] = get_percent_reads_valid_editing_changes(\n",
    "          chrom, pos, data_dict, reads)\n",
    "        \n",
    "        position_to_annotations[(chrom, pos)] = annotations\n",
    "\n",
    "    return position_to_annotations\n",
    "    "
   ]
  },
  {
   "cell_type": "code",
   "execution_count": 26,
   "metadata": {},
   "outputs": [],
   "source": [
    "annotations = get_annotations(rc, position_to_data_dict)"
   ]
  },
  {
   "cell_type": "code",
   "execution_count": 27,
   "metadata": {},
   "outputs": [
    {
     "name": "stdout",
     "output_type": "stream",
     "text": [
      "('chr1', '100393745') {'AVG_CHANGES_PER_ALTERED_READ': 1.8, 'AVG_CHANGES_PER_READ': 0.45, 'AVG_EDITING_CHANGES_PER_ALTERED_READ': 1.6, 'AVG_EDITING_CHANGES_PER_READ': 0.4, 'ALTERED_SITE_%_VALID_EDITING': 1.0, 'ALL_CHANGES_%_VALID_EDITING': 0.8888888888888888}\n",
      "('chr1', '110381504') {'AVG_CHANGES_PER_ALTERED_READ': 2.8, 'AVG_CHANGES_PER_READ': 2.0, 'AVG_EDITING_CHANGES_PER_ALTERED_READ': 0.0, 'AVG_EDITING_CHANGES_PER_READ': 0.0, 'ALTERED_SITE_%_VALID_EDITING': 0.0, 'ALL_CHANGES_%_VALID_EDITING': 0.0}\n",
      "('chr1', '11083033') {'AVG_CHANGES_PER_ALTERED_READ': 1.5, 'AVG_CHANGES_PER_READ': 0.43478260869565216, 'AVG_EDITING_CHANGES_PER_ALTERED_READ': 1.5, 'AVG_EDITING_CHANGES_PER_READ': 0.43478260869565216, 'ALTERED_SITE_%_VALID_EDITING': 1.0, 'ALL_CHANGES_%_VALID_EDITING': 1.0}\n",
      "('chr1', '114397580') {'AVG_CHANGES_PER_ALTERED_READ': 9.5, 'AVG_CHANGES_PER_READ': 1.4482758620689655, 'AVG_EDITING_CHANGES_PER_ALTERED_READ': 0.0, 'AVG_EDITING_CHANGES_PER_READ': 0.034482758620689655, 'ALTERED_SITE_%_VALID_EDITING': 0.0, 'ALL_CHANGES_%_VALID_EDITING': 0.023809523809523808}\n",
      "('chr1', '119168888') {'AVG_CHANGES_PER_ALTERED_READ': 1.3333333333333333, 'AVG_CHANGES_PER_READ': 0.16666666666666666, 'AVG_EDITING_CHANGES_PER_ALTERED_READ': 1.3333333333333333, 'AVG_EDITING_CHANGES_PER_READ': 0.16666666666666666, 'ALTERED_SITE_%_VALID_EDITING': 1.0, 'ALL_CHANGES_%_VALID_EDITING': 1.0}\n",
      "('chr1', '120341812') {'AVG_CHANGES_PER_ALTERED_READ': 1.5, 'AVG_CHANGES_PER_READ': 0.20967741935483872, 'AVG_EDITING_CHANGES_PER_ALTERED_READ': 1.0, 'AVG_EDITING_CHANGES_PER_READ': 0.12903225806451613, 'ALTERED_SITE_%_VALID_EDITING': 1.0, 'ALL_CHANGES_%_VALID_EDITING': 0.6153846153846154}\n",
      "('chr1', '120793792') {'AVG_CHANGES_PER_ALTERED_READ': 1.0555555555555556, 'AVG_CHANGES_PER_READ': 0.36477987421383645, 'AVG_EDITING_CHANGES_PER_ALTERED_READ': 0.018518518518518517, 'AVG_EDITING_CHANGES_PER_READ': 0.006289308176100629, 'ALTERED_SITE_%_VALID_EDITING': 0.0, 'ALL_CHANGES_%_VALID_EDITING': 0.017241379310344827}\n",
      "('chr1', '120832933') {'AVG_CHANGES_PER_ALTERED_READ': 4.538461538461538, 'AVG_CHANGES_PER_READ': 0.2879746835443038, 'AVG_EDITING_CHANGES_PER_ALTERED_READ': 2.0, 'AVG_EDITING_CHANGES_PER_READ': 0.10126582278481013, 'ALTERED_SITE_%_VALID_EDITING': 1.0, 'ALL_CHANGES_%_VALID_EDITING': 0.3516483516483517}\n",
      "('chr1', '120833733') {'AVG_CHANGES_PER_ALTERED_READ': 1.1379310344827587, 'AVG_CHANGES_PER_READ': 0.21524966261808368, 'AVG_EDITING_CHANGES_PER_ALTERED_READ': 1.0344827586206897, 'AVG_EDITING_CHANGES_PER_READ': 0.05195681511470985, 'ALTERED_SITE_%_VALID_EDITING': 1.0, 'ALL_CHANGES_%_VALID_EDITING': 0.2413793103448276}\n",
      "('chr1', '12324003') {'AVG_CHANGES_PER_ALTERED_READ': 2.0, 'AVG_CHANGES_PER_READ': 1.1724137931034482, 'AVG_EDITING_CHANGES_PER_ALTERED_READ': 2.0, 'AVG_EDITING_CHANGES_PER_READ': 1.1379310344827587, 'ALTERED_SITE_%_VALID_EDITING': 1.0, 'ALL_CHANGES_%_VALID_EDITING': 0.9705882352941176}\n",
      "('chr1', '144426370') {'AVG_CHANGES_PER_ALTERED_READ': 1.8235294117647058, 'AVG_CHANGES_PER_READ': 0.5666666666666667, 'AVG_EDITING_CHANGES_PER_ALTERED_READ': 1.7058823529411764, 'AVG_EDITING_CHANGES_PER_READ': 0.48333333333333334, 'ALTERED_SITE_%_VALID_EDITING': 1.0, 'ALL_CHANGES_%_VALID_EDITING': 0.8529411764705882}\n",
      "('chr1', '144426411') {'AVG_CHANGES_PER_ALTERED_READ': 1.2702702702702702, 'AVG_CHANGES_PER_READ': 0.6666666666666666, 'AVG_EDITING_CHANGES_PER_ALTERED_READ': 1.2432432432432432, 'AVG_EDITING_CHANGES_PER_READ': 0.5555555555555556, 'ALTERED_SITE_%_VALID_EDITING': 1.0, 'ALL_CHANGES_%_VALID_EDITING': 0.8333333333333334}\n",
      "('chr1', '144427830') {'AVG_CHANGES_PER_ALTERED_READ': 1.75, 'AVG_CHANGES_PER_READ': 0.06666666666666667, 'AVG_EDITING_CHANGES_PER_ALTERED_READ': 1.5, 'AVG_EDITING_CHANGES_PER_READ': 0.03333333333333333, 'ALTERED_SITE_%_VALID_EDITING': 1.0, 'ALL_CHANGES_%_VALID_EDITING': 0.5}\n",
      "('chr1', '144905173') {'AVG_CHANGES_PER_ALTERED_READ': 1.0163934426229508, 'AVG_CHANGES_PER_READ': 0.2682926829268293, 'AVG_EDITING_CHANGES_PER_ALTERED_READ': 0.0, 'AVG_EDITING_CHANGES_PER_READ': 0.0, 'ALTERED_SITE_%_VALID_EDITING': 0.0, 'ALL_CHANGES_%_VALID_EDITING': 0.0}\n",
      "('chr1', '144905925') {'AVG_CHANGES_PER_ALTERED_READ': 1.1271186440677967, 'AVG_CHANGES_PER_READ': 0.40848806366047746, 'AVG_EDITING_CHANGES_PER_ALTERED_READ': 1.0254237288135593, 'AVG_EDITING_CHANGES_PER_READ': 0.33156498673740054, 'ALTERED_SITE_%_VALID_EDITING': 1.0, 'ALL_CHANGES_%_VALID_EDITING': 0.8116883116883117}\n",
      "('chr1', '145403288') {'AVG_CHANGES_PER_ALTERED_READ': 2.3181818181818183, 'AVG_CHANGES_PER_READ': 0.5086206896551724, 'AVG_EDITING_CHANGES_PER_ALTERED_READ': 1.6818181818181819, 'AVG_EDITING_CHANGES_PER_READ': 0.33620689655172414, 'ALTERED_SITE_%_VALID_EDITING': 1.0, 'ALL_CHANGES_%_VALID_EDITING': 0.6610169491525424}\n",
      "('chr1', '145403305') {'AVG_CHANGES_PER_ALTERED_READ': 2.7777777777777777, 'AVG_CHANGES_PER_READ': 0.6363636363636364, 'AVG_EDITING_CHANGES_PER_ALTERED_READ': 1.8333333333333333, 'AVG_EDITING_CHANGES_PER_READ': 0.41414141414141414, 'ALTERED_SITE_%_VALID_EDITING': 1.0, 'ALL_CHANGES_%_VALID_EDITING': 0.6507936507936508}\n",
      "('chr1', '145403317') {'AVG_CHANGES_PER_ALTERED_READ': 2.391304347826087, 'AVG_CHANGES_PER_READ': 0.6330275229357798, 'AVG_EDITING_CHANGES_PER_ALTERED_READ': 1.434782608695652, 'AVG_EDITING_CHANGES_PER_READ': 0.4036697247706422, 'ALTERED_SITE_%_VALID_EDITING': 0.0, 'ALL_CHANGES_%_VALID_EDITING': 0.6376811594202898}\n",
      "('chr1', '146970754') {'AVG_CHANGES_PER_ALTERED_READ': 1.0, 'AVG_CHANGES_PER_READ': 0.21052631578947367, 'AVG_EDITING_CHANGES_PER_ALTERED_READ': 0.0, 'AVG_EDITING_CHANGES_PER_READ': 0.0, 'ALTERED_SITE_%_VALID_EDITING': 0.0, 'ALL_CHANGES_%_VALID_EDITING': 0.0}\n",
      "('chr1', '146987733') {'AVG_CHANGES_PER_ALTERED_READ': 2.3333333333333335, 'AVG_CHANGES_PER_READ': 0.7297297297297297, 'AVG_EDITING_CHANGES_PER_ALTERED_READ': 0.0, 'AVG_EDITING_CHANGES_PER_READ': 0.02702702702702703, 'ALTERED_SITE_%_VALID_EDITING': 0.0, 'ALL_CHANGES_%_VALID_EDITING': 0.037037037037037035}\n",
      "('chr1', '147178205') {'AVG_CHANGES_PER_ALTERED_READ': 2.75, 'AVG_CHANGES_PER_READ': 1.375, 'AVG_EDITING_CHANGES_PER_ALTERED_READ': 0.25, 'AVG_EDITING_CHANGES_PER_READ': 0.125, 'ALTERED_SITE_%_VALID_EDITING': 0.0, 'ALL_CHANGES_%_VALID_EDITING': 0.09090909090909091}\n",
      "('chr1', '147178275') {'AVG_CHANGES_PER_ALTERED_READ': 1.944954128440367, 'AVG_CHANGES_PER_READ': 1.7419354838709677, 'AVG_EDITING_CHANGES_PER_ALTERED_READ': 1.0, 'AVG_EDITING_CHANGES_PER_READ': 0.8790322580645161, 'ALTERED_SITE_%_VALID_EDITING': 0.981651376146789, 'ALL_CHANGES_%_VALID_EDITING': 0.5046296296296297}\n",
      "('chr1', '147178305') {'AVG_CHANGES_PER_ALTERED_READ': 1.6578947368421053, 'AVG_CHANGES_PER_READ': 1.2181818181818183, 'AVG_EDITING_CHANGES_PER_ALTERED_READ': 0.5789473684210527, 'AVG_EDITING_CHANGES_PER_READ': 0.4, 'ALTERED_SITE_%_VALID_EDITING': 0.0, 'ALL_CHANGES_%_VALID_EDITING': 0.3283582089552239}\n",
      "('chr1', '147178361') {'AVG_CHANGES_PER_ALTERED_READ': 1.0, 'AVG_CHANGES_PER_READ': 0.5609756097560976, 'AVG_EDITING_CHANGES_PER_ALTERED_READ': 0.95, 'AVG_EDITING_CHANGES_PER_READ': 0.4878048780487805, 'ALTERED_SITE_%_VALID_EDITING': 0.95, 'ALL_CHANGES_%_VALID_EDITING': 0.8695652173913043}\n",
      "('chr1', '147178425') {'AVG_CHANGES_PER_ALTERED_READ': 3.4, 'AVG_CHANGES_PER_READ': 0.5454545454545454, 'AVG_EDITING_CHANGES_PER_ALTERED_READ': 0.2, 'AVG_EDITING_CHANGES_PER_READ': 0.06060606060606061, 'ALTERED_SITE_%_VALID_EDITING': 0.0, 'ALL_CHANGES_%_VALID_EDITING': 0.1111111111111111}\n",
      "('chr1', '147178428') {'AVG_CHANGES_PER_ALTERED_READ': 3.4, 'AVG_CHANGES_PER_READ': 0.5625, 'AVG_EDITING_CHANGES_PER_ALTERED_READ': 0.2, 'AVG_EDITING_CHANGES_PER_READ': 0.0625, 'ALTERED_SITE_%_VALID_EDITING': 0.0, 'ALL_CHANGES_%_VALID_EDITING': 0.1111111111111111}\n",
      "('chr1', '147178611') {'AVG_CHANGES_PER_ALTERED_READ': 2.2222222222222223, 'AVG_CHANGES_PER_READ': 0.6578947368421053, 'AVG_EDITING_CHANGES_PER_ALTERED_READ': 1.2222222222222223, 'AVG_EDITING_CHANGES_PER_READ': 0.3157894736842105, 'ALTERED_SITE_%_VALID_EDITING': 1.0, 'ALL_CHANGES_%_VALID_EDITING': 0.48}\n",
      "('chr1', '147179394') {'AVG_CHANGES_PER_ALTERED_READ': 2.0, 'AVG_CHANGES_PER_READ': 0.3939393939393939, 'AVG_EDITING_CHANGES_PER_ALTERED_READ': 0.0, 'AVG_EDITING_CHANGES_PER_READ': 0.0, 'ALTERED_SITE_%_VALID_EDITING': 0.0, 'ALL_CHANGES_%_VALID_EDITING': 0.0}\n",
      "('chr1', '148124974') {'AVG_CHANGES_PER_ALTERED_READ': 1.0, 'AVG_CHANGES_PER_READ': 0.13063063063063063, 'AVG_EDITING_CHANGES_PER_ALTERED_READ': 1.0, 'AVG_EDITING_CHANGES_PER_READ': 0.06306306306306306, 'ALTERED_SITE_%_VALID_EDITING': 1.0, 'ALL_CHANGES_%_VALID_EDITING': 0.4827586206896552}\n",
      "('chr1', '148126897') {'AVG_CHANGES_PER_ALTERED_READ': 2.017543859649123, 'AVG_CHANGES_PER_READ': 0.9855072463768116, 'AVG_EDITING_CHANGES_PER_ALTERED_READ': 1.0, 'AVG_EDITING_CHANGES_PER_READ': 0.5144927536231884, 'ALTERED_SITE_%_VALID_EDITING': 0.0, 'ALL_CHANGES_%_VALID_EDITING': 0.5220588235294118}\n",
      "('chr1', '148126898') {'AVG_CHANGES_PER_ALTERED_READ': 2.017543859649123, 'AVG_CHANGES_PER_READ': 0.9855072463768116, 'AVG_EDITING_CHANGES_PER_ALTERED_READ': 1.0, 'AVG_EDITING_CHANGES_PER_READ': 0.5144927536231884, 'ALTERED_SITE_%_VALID_EDITING': 1.0, 'ALL_CHANGES_%_VALID_EDITING': 0.5220588235294118}\n",
      "('chr1', '1483075') {'AVG_CHANGES_PER_ALTERED_READ': 1.2, 'AVG_CHANGES_PER_READ': 0.5555555555555556, 'AVG_EDITING_CHANGES_PER_ALTERED_READ': 1.2, 'AVG_EDITING_CHANGES_PER_READ': 0.5555555555555556, 'ALTERED_SITE_%_VALID_EDITING': 1.0, 'ALL_CHANGES_%_VALID_EDITING': 1.0}\n",
      "('chr1', '1483078') {'AVG_CHANGES_PER_ALTERED_READ': 2.0, 'AVG_CHANGES_PER_READ': 0.5384615384615384, 'AVG_EDITING_CHANGES_PER_ALTERED_READ': 2.0, 'AVG_EDITING_CHANGES_PER_READ': 0.5384615384615384, 'ALTERED_SITE_%_VALID_EDITING': 1.0, 'ALL_CHANGES_%_VALID_EDITING': 1.0}\n",
      "('chr1', '1483150') {'AVG_CHANGES_PER_ALTERED_READ': 2.6666666666666665, 'AVG_CHANGES_PER_READ': 1.72, 'AVG_EDITING_CHANGES_PER_ALTERED_READ': 1.6666666666666667, 'AVG_EDITING_CHANGES_PER_READ': 0.72, 'ALTERED_SITE_%_VALID_EDITING': 1.0, 'ALL_CHANGES_%_VALID_EDITING': 0.4186046511627907}\n",
      "('chr1', '1483156') {'AVG_CHANGES_PER_ALTERED_READ': 2.4, 'AVG_CHANGES_PER_READ': 1.72, 'AVG_EDITING_CHANGES_PER_ALTERED_READ': 1.4, 'AVG_EDITING_CHANGES_PER_READ': 0.72, 'ALTERED_SITE_%_VALID_EDITING': 1.0, 'ALL_CHANGES_%_VALID_EDITING': 0.4186046511627907}\n",
      "('chr1', '148679532') {'AVG_CHANGES_PER_ALTERED_READ': 1.1, 'AVG_CHANGES_PER_READ': 0.25, 'AVG_EDITING_CHANGES_PER_ALTERED_READ': 0.0, 'AVG_EDITING_CHANGES_PER_READ': 0.0, 'ALTERED_SITE_%_VALID_EDITING': 0.0, 'ALL_CHANGES_%_VALID_EDITING': 0.0}\n",
      "('chr1', '148863267') {'AVG_CHANGES_PER_ALTERED_READ': 1.2857142857142858, 'AVG_CHANGES_PER_READ': 0.18, 'AVG_EDITING_CHANGES_PER_ALTERED_READ': 1.0, 'AVG_EDITING_CHANGES_PER_READ': 0.14, 'ALTERED_SITE_%_VALID_EDITING': 1.0, 'ALL_CHANGES_%_VALID_EDITING': 0.7777777777777778}\n",
      "('chr1', '148968851') {'AVG_CHANGES_PER_ALTERED_READ': 1.0258620689655173, 'AVG_CHANGES_PER_READ': 0.35816618911174786, 'AVG_EDITING_CHANGES_PER_ALTERED_READ': 1.0, 'AVG_EDITING_CHANGES_PER_READ': 0.332378223495702, 'ALTERED_SITE_%_VALID_EDITING': 1.0, 'ALL_CHANGES_%_VALID_EDITING': 0.928}\n",
      "('chr1', '148968914') {'AVG_CHANGES_PER_ALTERED_READ': 1.0606060606060606, 'AVG_CHANGES_PER_READ': 0.1736111111111111, 'AVG_EDITING_CHANGES_PER_ALTERED_READ': 1.0, 'AVG_EDITING_CHANGES_PER_READ': 0.125, 'ALTERED_SITE_%_VALID_EDITING': 1.0, 'ALL_CHANGES_%_VALID_EDITING': 0.72}\n",
      "('chr1', '149887479') {'AVG_CHANGES_PER_ALTERED_READ': 1.0, 'AVG_CHANGES_PER_READ': 0.4230769230769231, 'AVG_EDITING_CHANGES_PER_ALTERED_READ': 1.0, 'AVG_EDITING_CHANGES_PER_READ': 0.38461538461538464, 'ALTERED_SITE_%_VALID_EDITING': 1.0, 'ALL_CHANGES_%_VALID_EDITING': 0.9090909090909091}\n",
      "('chr1', '150159026') {'AVG_CHANGES_PER_ALTERED_READ': 1.0, 'AVG_CHANGES_PER_READ': 0.1782608695652174, 'AVG_EDITING_CHANGES_PER_ALTERED_READ': 0.0, 'AVG_EDITING_CHANGES_PER_READ': 0.06086956521739131, 'ALTERED_SITE_%_VALID_EDITING': 0.0, 'ALL_CHANGES_%_VALID_EDITING': 0.34146341463414637}\n",
      "('chr1', '150618276') {'AVG_CHANGES_PER_ALTERED_READ': 1.0, 'AVG_CHANGES_PER_READ': 0.25925925925925924, 'AVG_EDITING_CHANGES_PER_ALTERED_READ': 1.0, 'AVG_EDITING_CHANGES_PER_READ': 0.25925925925925924, 'ALTERED_SITE_%_VALID_EDITING': 1.0, 'ALL_CHANGES_%_VALID_EDITING': 1.0}\n",
      "('chr1', '150962463') {'AVG_CHANGES_PER_ALTERED_READ': '.', 'AVG_CHANGES_PER_READ': 0.3333333333333333, 'AVG_EDITING_CHANGES_PER_ALTERED_READ': '.', 'AVG_EDITING_CHANGES_PER_READ': 0.08333333333333333, 'ALTERED_SITE_%_VALID_EDITING': '.', 'ALL_CHANGES_%_VALID_EDITING': 0.25}\n",
      "('chr1', '150994837') {'AVG_CHANGES_PER_ALTERED_READ': 2.5, 'AVG_CHANGES_PER_READ': 2.0476190476190474, 'AVG_EDITING_CHANGES_PER_ALTERED_READ': 0.0, 'AVG_EDITING_CHANGES_PER_READ': 0.09523809523809523, 'ALTERED_SITE_%_VALID_EDITING': 0.0, 'ALL_CHANGES_%_VALID_EDITING': 0.046511627906976744}\n",
      "('chr1', '150994864') {'AVG_CHANGES_PER_ALTERED_READ': 3.0, 'AVG_CHANGES_PER_READ': 2.5294117647058822, 'AVG_EDITING_CHANGES_PER_ALTERED_READ': 0.0, 'AVG_EDITING_CHANGES_PER_READ': 0.35294117647058826, 'ALTERED_SITE_%_VALID_EDITING': 0.0, 'ALL_CHANGES_%_VALID_EDITING': 0.13953488372093023}\n",
      "('chr1', '151448815') {'AVG_CHANGES_PER_ALTERED_READ': 2.5, 'AVG_CHANGES_PER_READ': 1.0, 'AVG_EDITING_CHANGES_PER_ALTERED_READ': 2.5, 'AVG_EDITING_CHANGES_PER_READ': 0.9038461538461539, 'ALTERED_SITE_%_VALID_EDITING': 1.0, 'ALL_CHANGES_%_VALID_EDITING': 0.9038461538461539}\n",
      "('chr1', '152218719') {'AVG_CHANGES_PER_ALTERED_READ': 1.5, 'AVG_CHANGES_PER_READ': 0.14705882352941177, 'AVG_EDITING_CHANGES_PER_ALTERED_READ': 1.5, 'AVG_EDITING_CHANGES_PER_READ': 0.10294117647058823, 'ALTERED_SITE_%_VALID_EDITING': 1.0, 'ALL_CHANGES_%_VALID_EDITING': 0.7}\n",
      "('chr1', '153543705') {'AVG_CHANGES_PER_ALTERED_READ': 4.576271186440678, 'AVG_CHANGES_PER_READ': 1.8529411764705883, 'AVG_EDITING_CHANGES_PER_ALTERED_READ': 1.3898305084745763, 'AVG_EDITING_CHANGES_PER_READ': 0.5147058823529411, 'ALTERED_SITE_%_VALID_EDITING': 0.9322033898305084, 'ALL_CHANGES_%_VALID_EDITING': 0.2777777777777778}\n",
      "('chr1', '154483959') {'AVG_CHANGES_PER_ALTERED_READ': 1.5, 'AVG_CHANGES_PER_READ': 0.52, 'AVG_EDITING_CHANGES_PER_ALTERED_READ': 1.5, 'AVG_EDITING_CHANGES_PER_READ': 0.52, 'ALTERED_SITE_%_VALID_EDITING': 1.0, 'ALL_CHANGES_%_VALID_EDITING': 1.0}\n",
      "('chr1', '155680655') {'AVG_CHANGES_PER_ALTERED_READ': 1.3333333333333333, 'AVG_CHANGES_PER_READ': 0.4358974358974359, 'AVG_EDITING_CHANGES_PER_ALTERED_READ': 1.3333333333333333, 'AVG_EDITING_CHANGES_PER_READ': 0.41025641025641024, 'ALTERED_SITE_%_VALID_EDITING': 1.0, 'ALL_CHANGES_%_VALID_EDITING': 0.9411764705882353}\n",
      "('chr1', '155680664') {'AVG_CHANGES_PER_ALTERED_READ': 2.25, 'AVG_CHANGES_PER_READ': 0.4594594594594595, 'AVG_EDITING_CHANGES_PER_ALTERED_READ': 2.25, 'AVG_EDITING_CHANGES_PER_READ': 0.4594594594594595, 'ALTERED_SITE_%_VALID_EDITING': 1.0, 'ALL_CHANGES_%_VALID_EDITING': 1.0}\n",
      "('chr1', '155725580') {'AVG_CHANGES_PER_ALTERED_READ': 3.75, 'AVG_CHANGES_PER_READ': 1.2307692307692308, 'AVG_EDITING_CHANGES_PER_ALTERED_READ': 3.75, 'AVG_EDITING_CHANGES_PER_READ': 1.2307692307692308, 'ALTERED_SITE_%_VALID_EDITING': 1.0, 'ALL_CHANGES_%_VALID_EDITING': 1.0}\n",
      "('chr1', '155777652') {'AVG_CHANGES_PER_ALTERED_READ': 1.8, 'AVG_CHANGES_PER_READ': 0.20348837209302326, 'AVG_EDITING_CHANGES_PER_ALTERED_READ': 0.13333333333333333, 'AVG_EDITING_CHANGES_PER_READ': 0.029069767441860465, 'ALTERED_SITE_%_VALID_EDITING': 0.0, 'ALL_CHANGES_%_VALID_EDITING': 0.14285714285714285}\n",
      "('chr1', '156138487') {'AVG_CHANGES_PER_ALTERED_READ': 1.0, 'AVG_CHANGES_PER_READ': 0.5285714285714286, 'AVG_EDITING_CHANGES_PER_ALTERED_READ': 0.0, 'AVG_EDITING_CHANGES_PER_READ': 0.014285714285714285, 'ALTERED_SITE_%_VALID_EDITING': 0.0, 'ALL_CHANGES_%_VALID_EDITING': 0.02702702702702703}\n",
      "('chr1', '157010129') {'AVG_CHANGES_PER_ALTERED_READ': 3.0, 'AVG_CHANGES_PER_READ': 2.3333333333333335, 'AVG_EDITING_CHANGES_PER_ALTERED_READ': 3.0, 'AVG_EDITING_CHANGES_PER_READ': 2.3333333333333335, 'ALTERED_SITE_%_VALID_EDITING': 1.0, 'ALL_CHANGES_%_VALID_EDITING': 1.0}\n",
      "('chr1', '157010130') {'AVG_CHANGES_PER_ALTERED_READ': 3.6666666666666665, 'AVG_CHANGES_PER_READ': 2.3333333333333335, 'AVG_EDITING_CHANGES_PER_ALTERED_READ': 3.6666666666666665, 'AVG_EDITING_CHANGES_PER_READ': 2.3333333333333335, 'ALTERED_SITE_%_VALID_EDITING': 1.0, 'ALL_CHANGES_%_VALID_EDITING': 1.0}\n",
      "('chr1', '15767557') {'AVG_CHANGES_PER_ALTERED_READ': 2.2083333333333335, 'AVG_CHANGES_PER_READ': 0.8412698412698413, 'AVG_EDITING_CHANGES_PER_ALTERED_READ': 0.041666666666666664, 'AVG_EDITING_CHANGES_PER_READ': 0.015873015873015872, 'ALTERED_SITE_%_VALID_EDITING': 0.0, 'ALL_CHANGES_%_VALID_EDITING': 0.018867924528301886}\n",
      "('chr1', '157710331') {'AVG_CHANGES_PER_ALTERED_READ': 2.1882352941176473, 'AVG_CHANGES_PER_READ': 2.1882352941176473, 'AVG_EDITING_CHANGES_PER_ALTERED_READ': '.', 'AVG_EDITING_CHANGES_PER_READ': '.', 'ALTERED_SITE_%_VALID_EDITING': '.', 'ALL_CHANGES_%_VALID_EDITING': '.'}\n",
      "('chr1', '157710376') {'AVG_CHANGES_PER_ALTERED_READ': 2.6, 'AVG_CHANGES_PER_READ': 2.5853658536585367, 'AVG_EDITING_CHANGES_PER_ALTERED_READ': '.', 'AVG_EDITING_CHANGES_PER_READ': '.', 'ALTERED_SITE_%_VALID_EDITING': '.', 'ALL_CHANGES_%_VALID_EDITING': '.'}\n",
      "('chr1', '157710399') {'AVG_CHANGES_PER_ALTERED_READ': 2.515151515151515, 'AVG_CHANGES_PER_READ': 2.515151515151515, 'AVG_EDITING_CHANGES_PER_ALTERED_READ': '.', 'AVG_EDITING_CHANGES_PER_READ': '.', 'ALTERED_SITE_%_VALID_EDITING': '.', 'ALL_CHANGES_%_VALID_EDITING': '.'}\n",
      "('chr1', '15807671') {'AVG_CHANGES_PER_ALTERED_READ': 1.083969465648855, 'AVG_CHANGES_PER_READ': 1.121212121212121, 'AVG_EDITING_CHANGES_PER_ALTERED_READ': 1.0076335877862594, 'AVG_EDITING_CHANGES_PER_READ': 1.0, 'ALTERED_SITE_%_VALID_EDITING': 1.0, 'ALL_CHANGES_%_VALID_EDITING': 0.8918918918918919}\n",
      "('chr1', '160332454') {'AVG_CHANGES_PER_ALTERED_READ': 1.0479041916167664, 'AVG_CHANGES_PER_READ': 0.2526178010471204, 'AVG_EDITING_CHANGES_PER_ALTERED_READ': 1.0, 'AVG_EDITING_CHANGES_PER_READ': 0.22774869109947643, 'ALTERED_SITE_%_VALID_EDITING': 1.0, 'ALL_CHANGES_%_VALID_EDITING': 0.9015544041450777}\n",
      "('chr1', '16033852') {'AVG_CHANGES_PER_ALTERED_READ': 1.4444444444444444, 'AVG_CHANGES_PER_READ': 0.3333333333333333, 'AVG_EDITING_CHANGES_PER_ALTERED_READ': 1.0, 'AVG_EDITING_CHANGES_PER_READ': 0.23076923076923078, 'ALTERED_SITE_%_VALID_EDITING': 1.0, 'ALL_CHANGES_%_VALID_EDITING': 0.6923076923076923}\n",
      "('chr1', '161211004') {'AVG_CHANGES_PER_ALTERED_READ': '.', 'AVG_CHANGES_PER_READ': 0.5, 'AVG_EDITING_CHANGES_PER_ALTERED_READ': '.', 'AVG_EDITING_CHANGES_PER_READ': 0.4375, 'ALTERED_SITE_%_VALID_EDITING': '.', 'ALL_CHANGES_%_VALID_EDITING': 0.875}\n",
      "('chr1', '16229075') {'AVG_CHANGES_PER_ALTERED_READ': 2.142857142857143, 'AVG_CHANGES_PER_READ': 1.5, 'AVG_EDITING_CHANGES_PER_ALTERED_READ': '.', 'AVG_EDITING_CHANGES_PER_READ': '.', 'ALTERED_SITE_%_VALID_EDITING': '.', 'ALL_CHANGES_%_VALID_EDITING': '.'}\n",
      "('chr1', '162792734') {'AVG_CHANGES_PER_ALTERED_READ': 1.2, 'AVG_CHANGES_PER_READ': 0.16, 'AVG_EDITING_CHANGES_PER_ALTERED_READ': 1.0, 'AVG_EDITING_CHANGES_PER_READ': 0.13333333333333333, 'ALTERED_SITE_%_VALID_EDITING': 1.0, 'ALL_CHANGES_%_VALID_EDITING': 0.8333333333333334}\n",
      "('chr1', '16569139') {'AVG_CHANGES_PER_ALTERED_READ': 1.0, 'AVG_CHANGES_PER_READ': 0.2916666666666667, 'AVG_EDITING_CHANGES_PER_ALTERED_READ': 0.0, 'AVG_EDITING_CHANGES_PER_READ': 0.0, 'ALTERED_SITE_%_VALID_EDITING': 0.0, 'ALL_CHANGES_%_VALID_EDITING': 0.0}\n",
      "('chr1', '16575215') {'AVG_CHANGES_PER_ALTERED_READ': 2.0, 'AVG_CHANGES_PER_READ': 0.21354166666666666, 'AVG_EDITING_CHANGES_PER_ALTERED_READ': 1.0, 'AVG_EDITING_CHANGES_PER_READ': 0.14583333333333334, 'ALTERED_SITE_%_VALID_EDITING': 0.0, 'ALL_CHANGES_%_VALID_EDITING': 0.6829268292682927}\n",
      "('chr1', '16579342') {'AVG_CHANGES_PER_ALTERED_READ': 1.0, 'AVG_CHANGES_PER_READ': 0.4682274247491639, 'AVG_EDITING_CHANGES_PER_ALTERED_READ': 0.98, 'AVG_EDITING_CHANGES_PER_READ': 0.3277591973244147, 'ALTERED_SITE_%_VALID_EDITING': 0.98, 'ALL_CHANGES_%_VALID_EDITING': 0.7}\n",
      "('chr1', '16622863') {'AVG_CHANGES_PER_ALTERED_READ': 1.5, 'AVG_CHANGES_PER_READ': 0.5161290322580645, 'AVG_EDITING_CHANGES_PER_ALTERED_READ': 1.5, 'AVG_EDITING_CHANGES_PER_READ': 0.45161290322580644, 'ALTERED_SITE_%_VALID_EDITING': 1.0, 'ALL_CHANGES_%_VALID_EDITING': 0.875}\n",
      "('chr1', '16623708') {'AVG_CHANGES_PER_ALTERED_READ': '.', 'AVG_CHANGES_PER_READ': 0.1111111111111111, 'AVG_EDITING_CHANGES_PER_ALTERED_READ': '.', 'AVG_EDITING_CHANGES_PER_READ': 0.031746031746031744, 'ALTERED_SITE_%_VALID_EDITING': '.', 'ALL_CHANGES_%_VALID_EDITING': 0.2857142857142857}\n",
      "('chr1', '16624724') {'AVG_CHANGES_PER_ALTERED_READ': 1.0769230769230769, 'AVG_CHANGES_PER_READ': 0.5454545454545454, 'AVG_EDITING_CHANGES_PER_ALTERED_READ': 1.0769230769230769, 'AVG_EDITING_CHANGES_PER_READ': 0.5227272727272727, 'ALTERED_SITE_%_VALID_EDITING': 1.0, 'ALL_CHANGES_%_VALID_EDITING': 0.9583333333333334}\n",
      "('chr1', '16624737') {'AVG_CHANGES_PER_ALTERED_READ': 1.2857142857142858, 'AVG_CHANGES_PER_READ': 0.6923076923076923, 'AVG_EDITING_CHANGES_PER_ALTERED_READ': 1.2857142857142858, 'AVG_EDITING_CHANGES_PER_READ': 0.6410256410256411, 'ALTERED_SITE_%_VALID_EDITING': 1.0, 'ALL_CHANGES_%_VALID_EDITING': 0.9259259259259259}\n",
      "('chr1', '16625505') {'AVG_CHANGES_PER_ALTERED_READ': 1.5, 'AVG_CHANGES_PER_READ': 1.4444444444444444, 'AVG_EDITING_CHANGES_PER_ALTERED_READ': 1.5, 'AVG_EDITING_CHANGES_PER_READ': 1.0444444444444445, 'ALTERED_SITE_%_VALID_EDITING': 1.0, 'ALL_CHANGES_%_VALID_EDITING': 0.7230769230769231}\n",
      "('chr1', '16625562') {'AVG_CHANGES_PER_ALTERED_READ': 1.8, 'AVG_CHANGES_PER_READ': 1.3235294117647058, 'AVG_EDITING_CHANGES_PER_ALTERED_READ': 1.0, 'AVG_EDITING_CHANGES_PER_READ': 0.4117647058823529, 'ALTERED_SITE_%_VALID_EDITING': 1.0, 'ALL_CHANGES_%_VALID_EDITING': 0.3111111111111111}\n",
      "('chr1', '16625572') {'AVG_CHANGES_PER_ALTERED_READ': 9.0, 'AVG_CHANGES_PER_READ': 1.2857142857142858, 'AVG_EDITING_CHANGES_PER_ALTERED_READ': 5.0, 'AVG_EDITING_CHANGES_PER_READ': 0.3142857142857143, 'ALTERED_SITE_%_VALID_EDITING': 0.0, 'ALL_CHANGES_%_VALID_EDITING': 0.24444444444444444}\n",
      "('chr1', '16625574') {'AVG_CHANGES_PER_ALTERED_READ': 2.0, 'AVG_CHANGES_PER_READ': 0.9375, 'AVG_EDITING_CHANGES_PER_ALTERED_READ': 0.0, 'AVG_EDITING_CHANGES_PER_READ': 0.125, 'ALTERED_SITE_%_VALID_EDITING': 0.0, 'ALL_CHANGES_%_VALID_EDITING': 0.13333333333333333}\n",
      "('chr1', '16757526') {'AVG_CHANGES_PER_ALTERED_READ': 1.0, 'AVG_CHANGES_PER_READ': 0.30434782608695654, 'AVG_EDITING_CHANGES_PER_ALTERED_READ': 0.0, 'AVG_EDITING_CHANGES_PER_READ': 0.08695652173913043, 'ALTERED_SITE_%_VALID_EDITING': 0.0, 'ALL_CHANGES_%_VALID_EDITING': 0.2857142857142857}\n",
      "('chr1', '16758473') {'AVG_CHANGES_PER_ALTERED_READ': 1.0, 'AVG_CHANGES_PER_READ': 0.2, 'AVG_EDITING_CHANGES_PER_ALTERED_READ': 0.0, 'AVG_EDITING_CHANGES_PER_READ': 0.0, 'ALTERED_SITE_%_VALID_EDITING': 0.0, 'ALL_CHANGES_%_VALID_EDITING': 0.0}\n",
      "('chr1', '169106927') {'AVG_CHANGES_PER_ALTERED_READ': 1.3333333333333333, 'AVG_CHANGES_PER_READ': 0.4444444444444444, 'AVG_EDITING_CHANGES_PER_ALTERED_READ': 0.0, 'AVG_EDITING_CHANGES_PER_READ': 0.0, 'ALTERED_SITE_%_VALID_EDITING': 0.0, 'ALL_CHANGES_%_VALID_EDITING': 0.0}\n",
      "('chr1', '16946274') {'AVG_CHANGES_PER_ALTERED_READ': 2.125, 'AVG_CHANGES_PER_READ': 0.9444444444444444, 'AVG_EDITING_CHANGES_PER_ALTERED_READ': 1.125, 'AVG_EDITING_CHANGES_PER_READ': 0.5, 'ALTERED_SITE_%_VALID_EDITING': 0.0, 'ALL_CHANGES_%_VALID_EDITING': 0.5294117647058824}\n",
      "('chr1', '16946292') {'AVG_CHANGES_PER_ALTERED_READ': 1.1764705882352942, 'AVG_CHANGES_PER_READ': 0.851063829787234, 'AVG_EDITING_CHANGES_PER_ALTERED_READ': 0.6764705882352942, 'AVG_EDITING_CHANGES_PER_READ': 0.48936170212765956, 'ALTERED_SITE_%_VALID_EDITING': 0.6176470588235294, 'ALL_CHANGES_%_VALID_EDITING': 0.575}\n",
      "('chr1', '1734409') {'AVG_CHANGES_PER_ALTERED_READ': 3.4285714285714284, 'AVG_CHANGES_PER_READ': 2.21875, 'AVG_EDITING_CHANGES_PER_ALTERED_READ': 3.4285714285714284, 'AVG_EDITING_CHANGES_PER_READ': 2.1875, 'ALTERED_SITE_%_VALID_EDITING': 1.0, 'ALL_CHANGES_%_VALID_EDITING': 0.9859154929577465}\n",
      "('chr1', '1734419') {'AVG_CHANGES_PER_ALTERED_READ': 2.7916666666666665, 'AVG_CHANGES_PER_READ': 2.2666666666666666, 'AVG_EDITING_CHANGES_PER_ALTERED_READ': 2.75, 'AVG_EDITING_CHANGES_PER_READ': 2.2333333333333334, 'ALTERED_SITE_%_VALID_EDITING': 1.0, 'ALL_CHANGES_%_VALID_EDITING': 0.9852941176470589}\n",
      "('chr1', '1734420') {'AVG_CHANGES_PER_ALTERED_READ': 3.1666666666666665, 'AVG_CHANGES_PER_READ': 2.2666666666666666, 'AVG_EDITING_CHANGES_PER_ALTERED_READ': 3.1666666666666665, 'AVG_EDITING_CHANGES_PER_READ': 2.2333333333333334, 'ALTERED_SITE_%_VALID_EDITING': 1.0, 'ALL_CHANGES_%_VALID_EDITING': 0.9852941176470589}\n",
      "('chr1', '178411664') {'AVG_CHANGES_PER_ALTERED_READ': 2.0606060606060606, 'AVG_CHANGES_PER_READ': 1.9485714285714286, 'AVG_EDITING_CHANGES_PER_ALTERED_READ': 0.012121212121212121, 'AVG_EDITING_CHANGES_PER_READ': 0.011428571428571429, 'ALTERED_SITE_%_VALID_EDITING': 0.0, 'ALL_CHANGES_%_VALID_EDITING': 0.005865102639296188}\n",
      "('chr1', '178411671') {'AVG_CHANGES_PER_ALTERED_READ': 1.8979591836734695, 'AVG_CHANGES_PER_READ': 1.8106796116504855, 'AVG_EDITING_CHANGES_PER_ALTERED_READ': 0.01020408163265306, 'AVG_EDITING_CHANGES_PER_READ': 0.009708737864077669, 'ALTERED_SITE_%_VALID_EDITING': 0.0, 'ALL_CHANGES_%_VALID_EDITING': 0.005361930294906166}\n",
      "('chr1', '178411744') {'AVG_CHANGES_PER_ALTERED_READ': 1.3932291666666667, 'AVG_CHANGES_PER_READ': 1.3308457711442787, 'AVG_EDITING_CHANGES_PER_ALTERED_READ': 0.005208333333333333, 'AVG_EDITING_CHANGES_PER_READ': 0.004975124378109453, 'ALTERED_SITE_%_VALID_EDITING': 0.0, 'ALL_CHANGES_%_VALID_EDITING': 0.003738317757009346}\n",
      "('chr1', '178411768') {'AVG_CHANGES_PER_ALTERED_READ': 2.0779220779220777, 'AVG_CHANGES_PER_READ': 1.8505747126436782, 'AVG_EDITING_CHANGES_PER_ALTERED_READ': 0.03896103896103896, 'AVG_EDITING_CHANGES_PER_READ': 0.034482758620689655, 'ALTERED_SITE_%_VALID_EDITING': 0.0, 'ALL_CHANGES_%_VALID_EDITING': 0.018633540372670808}\n",
      "('chr1', '178411821') {'AVG_CHANGES_PER_ALTERED_READ': 5.625, 'AVG_CHANGES_PER_READ': 2.064516129032258, 'AVG_EDITING_CHANGES_PER_ALTERED_READ': 2.125, 'AVG_EDITING_CHANGES_PER_READ': 0.6451612903225806, 'ALTERED_SITE_%_VALID_EDITING': 0.875, 'ALL_CHANGES_%_VALID_EDITING': 0.3125}\n",
      "('chr1', '178411822') {'AVG_CHANGES_PER_ALTERED_READ': 5.5, 'AVG_CHANGES_PER_READ': 1.9642857142857142, 'AVG_EDITING_CHANGES_PER_ALTERED_READ': 1.9, 'AVG_EDITING_CHANGES_PER_READ': 0.6785714285714286, 'ALTERED_SITE_%_VALID_EDITING': 1.0, 'ALL_CHANGES_%_VALID_EDITING': 0.34545454545454546}\n",
      "('chr1', '178411841') {'AVG_CHANGES_PER_ALTERED_READ': 5.111111111111111, 'AVG_CHANGES_PER_READ': 1.7142857142857142, 'AVG_EDITING_CHANGES_PER_ALTERED_READ': 1.7777777777777777, 'AVG_EDITING_CHANGES_PER_READ': 0.5714285714285714, 'ALTERED_SITE_%_VALID_EDITING': 0.0, 'ALL_CHANGES_%_VALID_EDITING': 0.3333333333333333}\n",
      "('chr1', '182809275') {'AVG_CHANGES_PER_ALTERED_READ': 2.875, 'AVG_CHANGES_PER_READ': 1.8, 'AVG_EDITING_CHANGES_PER_ALTERED_READ': 2.25, 'AVG_EDITING_CHANGES_PER_READ': 1.3142857142857143, 'ALTERED_SITE_%_VALID_EDITING': 1.0, 'ALL_CHANGES_%_VALID_EDITING': 0.7301587301587301}\n",
      "('chr1', '182809277') {'AVG_CHANGES_PER_ALTERED_READ': 2.6666666666666665, 'AVG_CHANGES_PER_READ': 1.7297297297297298, 'AVG_EDITING_CHANGES_PER_ALTERED_READ': 2.1666666666666665, 'AVG_EDITING_CHANGES_PER_READ': 1.2702702702702702, 'ALTERED_SITE_%_VALID_EDITING': 1.0, 'ALL_CHANGES_%_VALID_EDITING': 0.734375}\n",
      "('chr1', '182809310') {'AVG_CHANGES_PER_ALTERED_READ': 1.6666666666666667, 'AVG_CHANGES_PER_READ': 1.1794871794871795, 'AVG_EDITING_CHANGES_PER_ALTERED_READ': 1.6666666666666667, 'AVG_EDITING_CHANGES_PER_READ': 1.0512820512820513, 'ALTERED_SITE_%_VALID_EDITING': 1.0, 'ALL_CHANGES_%_VALID_EDITING': 0.8913043478260869}\n",
      "('chr1', '182809353') {'AVG_CHANGES_PER_ALTERED_READ': 2.111111111111111, 'AVG_CHANGES_PER_READ': 1.0208333333333333, 'AVG_EDITING_CHANGES_PER_ALTERED_READ': 2.111111111111111, 'AVG_EDITING_CHANGES_PER_READ': 0.9375, 'ALTERED_SITE_%_VALID_EDITING': 1.0, 'ALL_CHANGES_%_VALID_EDITING': 0.9183673469387755}\n",
      "('chr1', '182809362') {'AVG_CHANGES_PER_ALTERED_READ': 1.0, 'AVG_CHANGES_PER_READ': 1.0444444444444445, 'AVG_EDITING_CHANGES_PER_ALTERED_READ': 1.0, 'AVG_EDITING_CHANGES_PER_READ': 0.9555555555555556, 'ALTERED_SITE_%_VALID_EDITING': 1.0, 'ALL_CHANGES_%_VALID_EDITING': 0.9148936170212766}\n",
      "('chr1', '182809363') {'AVG_CHANGES_PER_ALTERED_READ': '.', 'AVG_CHANGES_PER_READ': 1.0, 'AVG_EDITING_CHANGES_PER_ALTERED_READ': '.', 'AVG_EDITING_CHANGES_PER_READ': 0.9772727272727273, 'ALTERED_SITE_%_VALID_EDITING': '.', 'ALL_CHANGES_%_VALID_EDITING': 0.9772727272727273}\n",
      "('chr1', '182809388') {'AVG_CHANGES_PER_ALTERED_READ': 1.75, 'AVG_CHANGES_PER_READ': 1.4146341463414633, 'AVG_EDITING_CHANGES_PER_ALTERED_READ': 1.75, 'AVG_EDITING_CHANGES_PER_READ': 1.4146341463414633, 'ALTERED_SITE_%_VALID_EDITING': 0.75, 'ALL_CHANGES_%_VALID_EDITING': 1.0}\n",
      "('chr1', '182809393') {'AVG_CHANGES_PER_ALTERED_READ': 2.4285714285714284, 'AVG_CHANGES_PER_READ': 1.5263157894736843, 'AVG_EDITING_CHANGES_PER_ALTERED_READ': 2.4285714285714284, 'AVG_EDITING_CHANGES_PER_READ': 1.5263157894736843, 'ALTERED_SITE_%_VALID_EDITING': 0.9285714285714286, 'ALL_CHANGES_%_VALID_EDITING': 1.0}\n",
      "('chr1', '182809420') {'AVG_CHANGES_PER_ALTERED_READ': 2.4166666666666665, 'AVG_CHANGES_PER_READ': 1.7083333333333333, 'AVG_EDITING_CHANGES_PER_ALTERED_READ': 2.4166666666666665, 'AVG_EDITING_CHANGES_PER_READ': 1.7083333333333333, 'ALTERED_SITE_%_VALID_EDITING': 0.9166666666666666, 'ALL_CHANGES_%_VALID_EDITING': 1.0}\n",
      "('chr1', '192809296') {'AVG_CHANGES_PER_ALTERED_READ': 1.0, 'AVG_CHANGES_PER_READ': 0.1368421052631579, 'AVG_EDITING_CHANGES_PER_ALTERED_READ': 0.0, 'AVG_EDITING_CHANGES_PER_READ': 0.010526315789473684, 'ALTERED_SITE_%_VALID_EDITING': 0.0, 'ALL_CHANGES_%_VALID_EDITING': 0.07692307692307693}\n",
      "('chr1', '19600799') {'AVG_CHANGES_PER_ALTERED_READ': 2.0, 'AVG_CHANGES_PER_READ': 0.3333333333333333, 'AVG_EDITING_CHANGES_PER_ALTERED_READ': 2.0, 'AVG_EDITING_CHANGES_PER_READ': 0.3333333333333333, 'ALTERED_SITE_%_VALID_EDITING': 1.0, 'ALL_CHANGES_%_VALID_EDITING': 1.0}\n",
      "('chr1', '19608123') {'AVG_CHANGES_PER_ALTERED_READ': 3.75, 'AVG_CHANGES_PER_READ': 0.47368421052631576, 'AVG_EDITING_CHANGES_PER_ALTERED_READ': 1.25, 'AVG_EDITING_CHANGES_PER_READ': 0.13157894736842105, 'ALTERED_SITE_%_VALID_EDITING': 0.0, 'ALL_CHANGES_%_VALID_EDITING': 0.2777777777777778}\n",
      "('chr1', '19608185') {'AVG_CHANGES_PER_ALTERED_READ': 2.0, 'AVG_CHANGES_PER_READ': 0.75, 'AVG_EDITING_CHANGES_PER_ALTERED_READ': 0.6666666666666666, 'AVG_EDITING_CHANGES_PER_READ': 0.25, 'ALTERED_SITE_%_VALID_EDITING': 0.0, 'ALL_CHANGES_%_VALID_EDITING': 0.3333333333333333}\n",
      "('chr1', '19608264') {'AVG_CHANGES_PER_ALTERED_READ': 2.3636363636363638, 'AVG_CHANGES_PER_READ': 1.14, 'AVG_EDITING_CHANGES_PER_ALTERED_READ': 0.09090909090909091, 'AVG_EDITING_CHANGES_PER_READ': 0.06, 'ALTERED_SITE_%_VALID_EDITING': 0.0, 'ALL_CHANGES_%_VALID_EDITING': 0.05263157894736842}\n",
      "('chr1', '19608549') {'AVG_CHANGES_PER_ALTERED_READ': 1.0909090909090908, 'AVG_CHANGES_PER_READ': 0.5102040816326531, 'AVG_EDITING_CHANGES_PER_ALTERED_READ': 1.0909090909090908, 'AVG_EDITING_CHANGES_PER_READ': 0.5102040816326531, 'ALTERED_SITE_%_VALID_EDITING': 1.0, 'ALL_CHANGES_%_VALID_EDITING': 1.0}\n",
      "('chr1', '205351387') {'AVG_CHANGES_PER_ALTERED_READ': 1.1272727272727272, 'AVG_CHANGES_PER_READ': 1.1272727272727272, 'AVG_EDITING_CHANGES_PER_ALTERED_READ': 0.12727272727272726, 'AVG_EDITING_CHANGES_PER_READ': 0.12727272727272726, 'ALTERED_SITE_%_VALID_EDITING': 0.0, 'ALL_CHANGES_%_VALID_EDITING': 0.11290322580645161}\n",
      "('chr1', '206696084') {'AVG_CHANGES_PER_ALTERED_READ': 3.0145631067961167, 'AVG_CHANGES_PER_READ': 2.820627802690583, 'AVG_EDITING_CHANGES_PER_ALTERED_READ': 2.0, 'AVG_EDITING_CHANGES_PER_READ': 1.8654708520179373, 'ALTERED_SITE_%_VALID_EDITING': 1.0, 'ALL_CHANGES_%_VALID_EDITING': 0.6613672496025437}\n",
      "('chr1', '206696095') {'AVG_CHANGES_PER_ALTERED_READ': 2.95, 'AVG_CHANGES_PER_READ': 2.782051282051282, 'AVG_EDITING_CHANGES_PER_ALTERED_READ': 1.9363636363636363, 'AVG_EDITING_CHANGES_PER_READ': 1.829059829059829, 'ALTERED_SITE_%_VALID_EDITING': 0.0, 'ALL_CHANGES_%_VALID_EDITING': 0.6574500768049155}\n",
      "('chr1', '206696115') {'AVG_CHANGES_PER_ALTERED_READ': 2.478405315614618, 'AVG_CHANGES_PER_READ': 2.349056603773585, 'AVG_EDITING_CHANGES_PER_ALTERED_READ': 1.7142857142857142, 'AVG_EDITING_CHANGES_PER_READ': 1.6257861635220126, 'ALTERED_SITE_%_VALID_EDITING': 0.9966777408637874, 'ALL_CHANGES_%_VALID_EDITING': 0.6921017402945113}\n",
      "('chr1', '206696260') {'AVG_CHANGES_PER_ALTERED_READ': 4.184210526315789, 'AVG_CHANGES_PER_READ': 2.323943661971831, 'AVG_EDITING_CHANGES_PER_ALTERED_READ': 1.0526315789473684, 'AVG_EDITING_CHANGES_PER_READ': 0.6056338028169014, 'ALTERED_SITE_%_VALID_EDITING': 1.0, 'ALL_CHANGES_%_VALID_EDITING': 0.2606060606060606}\n",
      "('chr1', '206696283') {'AVG_CHANGES_PER_ALTERED_READ': 4.222222222222222, 'AVG_CHANGES_PER_READ': 1.872093023255814, 'AVG_EDITING_CHANGES_PER_ALTERED_READ': 1.0555555555555556, 'AVG_EDITING_CHANGES_PER_READ': 0.4883720930232558, 'ALTERED_SITE_%_VALID_EDITING': 0.0, 'ALL_CHANGES_%_VALID_EDITING': 0.2608695652173913}\n",
      "('chr1', '20755311') {'AVG_CHANGES_PER_ALTERED_READ': 2.6, 'AVG_CHANGES_PER_READ': 0.40540540540540543, 'AVG_EDITING_CHANGES_PER_ALTERED_READ': 2.6, 'AVG_EDITING_CHANGES_PER_READ': 0.40540540540540543, 'ALTERED_SITE_%_VALID_EDITING': 1.0, 'ALL_CHANGES_%_VALID_EDITING': 1.0}\n",
      "('chr1', '20755465') {'AVG_CHANGES_PER_ALTERED_READ': 2.125, 'AVG_CHANGES_PER_READ': 1.3157894736842106, 'AVG_EDITING_CHANGES_PER_ALTERED_READ': 2.125, 'AVG_EDITING_CHANGES_PER_READ': 1.2105263157894737, 'ALTERED_SITE_%_VALID_EDITING': 1.0, 'ALL_CHANGES_%_VALID_EDITING': 0.92}\n",
      "('chr1', '20755466') {'AVG_CHANGES_PER_ALTERED_READ': 2.2, 'AVG_CHANGES_PER_READ': 1.3157894736842106, 'AVG_EDITING_CHANGES_PER_ALTERED_READ': 2.2, 'AVG_EDITING_CHANGES_PER_READ': 1.2105263157894737, 'ALTERED_SITE_%_VALID_EDITING': 1.0, 'ALL_CHANGES_%_VALID_EDITING': 0.92}\n",
      "('chr1', '20755492') {'AVG_CHANGES_PER_ALTERED_READ': 1.6666666666666667, 'AVG_CHANGES_PER_READ': 0.896551724137931, 'AVG_EDITING_CHANGES_PER_ALTERED_READ': 1.6666666666666667, 'AVG_EDITING_CHANGES_PER_READ': 0.8275862068965517, 'ALTERED_SITE_%_VALID_EDITING': 1.0, 'ALL_CHANGES_%_VALID_EDITING': 0.9230769230769231}\n",
      "('chr1', '20892733') {'AVG_CHANGES_PER_ALTERED_READ': 1.75, 'AVG_CHANGES_PER_READ': 0.45, 'AVG_EDITING_CHANGES_PER_ALTERED_READ': 1.5, 'AVG_EDITING_CHANGES_PER_READ': 0.4, 'ALTERED_SITE_%_VALID_EDITING': 1.0, 'ALL_CHANGES_%_VALID_EDITING': 0.8888888888888888}\n",
      "('chr1', '211267757') {'AVG_CHANGES_PER_ALTERED_READ': 1.625, 'AVG_CHANGES_PER_READ': 1.3157894736842106, 'AVG_EDITING_CHANGES_PER_ALTERED_READ': 1.625, 'AVG_EDITING_CHANGES_PER_READ': 1.0526315789473684, 'ALTERED_SITE_%_VALID_EDITING': 1.0, 'ALL_CHANGES_%_VALID_EDITING': 0.8}\n",
      "('chr1', '211267783') {'AVG_CHANGES_PER_ALTERED_READ': 1.4, 'AVG_CHANGES_PER_READ': 0.9393939393939394, 'AVG_EDITING_CHANGES_PER_ALTERED_READ': 1.2, 'AVG_EDITING_CHANGES_PER_READ': 0.7878787878787878, 'ALTERED_SITE_%_VALID_EDITING': 1.0, 'ALL_CHANGES_%_VALID_EDITING': 0.8387096774193549}\n",
      "('chr1', '211267813') {'AVG_CHANGES_PER_ALTERED_READ': 1.7, 'AVG_CHANGES_PER_READ': 0.6122448979591837, 'AVG_EDITING_CHANGES_PER_ALTERED_READ': 1.6, 'AVG_EDITING_CHANGES_PER_READ': 0.5102040816326531, 'ALTERED_SITE_%_VALID_EDITING': 0.9, 'ALL_CHANGES_%_VALID_EDITING': 0.8333333333333334}\n",
      "('chr1', '215581099') {'AVG_CHANGES_PER_ALTERED_READ': '.', 'AVG_CHANGES_PER_READ': 0.2413793103448276, 'AVG_EDITING_CHANGES_PER_ALTERED_READ': '.', 'AVG_EDITING_CHANGES_PER_READ': 0.10344827586206896, 'ALTERED_SITE_%_VALID_EDITING': '.', 'ALL_CHANGES_%_VALID_EDITING': 0.42857142857142855}\n",
      "('chr1', '220057912') {'AVG_CHANGES_PER_ALTERED_READ': 2.1666666666666665, 'AVG_CHANGES_PER_READ': 1.1333333333333333, 'AVG_EDITING_CHANGES_PER_ALTERED_READ': 2.0555555555555554, 'AVG_EDITING_CHANGES_PER_READ': 1.1047619047619048, 'ALTERED_SITE_%_VALID_EDITING': 1.0, 'ALL_CHANGES_%_VALID_EDITING': 0.9747899159663865}\n",
      "('chr1', '220057921') {'AVG_CHANGES_PER_ALTERED_READ': 1.4024390243902438, 'AVG_CHANGES_PER_READ': 1.27, 'AVG_EDITING_CHANGES_PER_ALTERED_READ': 1.3658536585365855, 'AVG_EDITING_CHANGES_PER_READ': 1.24, 'ALTERED_SITE_%_VALID_EDITING': 0.5853658536585366, 'ALL_CHANGES_%_VALID_EDITING': 0.9763779527559056}\n",
      "('chr1', '220057933') {'AVG_CHANGES_PER_ALTERED_READ': 1.4444444444444444, 'AVG_CHANGES_PER_READ': 1.4148936170212767, 'AVG_EDITING_CHANGES_PER_ALTERED_READ': 1.4166666666666667, 'AVG_EDITING_CHANGES_PER_READ': 1.3617021276595744, 'ALTERED_SITE_%_VALID_EDITING': 0.5138888888888888, 'ALL_CHANGES_%_VALID_EDITING': 0.9624060150375939}\n",
      "('chr1', '220057934') {'AVG_CHANGES_PER_ALTERED_READ': 1.1372549019607843, 'AVG_CHANGES_PER_READ': 1.4301075268817205, 'AVG_EDITING_CHANGES_PER_ALTERED_READ': 1.1372549019607843, 'AVG_EDITING_CHANGES_PER_READ': 1.3763440860215055, 'ALTERED_SITE_%_VALID_EDITING': 0.3333333333333333, 'ALL_CHANGES_%_VALID_EDITING': 0.9624060150375939}\n",
      "('chr1', '220057988') {'AVG_CHANGES_PER_ALTERED_READ': 1.5471698113207548, 'AVG_CHANGES_PER_READ': 1.3076923076923077, 'AVG_EDITING_CHANGES_PER_ALTERED_READ': 1.509433962264151, 'AVG_EDITING_CHANGES_PER_READ': 1.2769230769230768, 'ALTERED_SITE_%_VALID_EDITING': 1.0, 'ALL_CHANGES_%_VALID_EDITING': 0.9764705882352941}\n",
      "('chr1', '220058005') {'AVG_CHANGES_PER_ALTERED_READ': 1.8666666666666667, 'AVG_CHANGES_PER_READ': 1.118421052631579, 'AVG_EDITING_CHANGES_PER_ALTERED_READ': 1.8666666666666667, 'AVG_EDITING_CHANGES_PER_READ': 1.0921052631578947, 'ALTERED_SITE_%_VALID_EDITING': 0.8666666666666667, 'ALL_CHANGES_%_VALID_EDITING': 0.9764705882352941}\n",
      "('chr1', '220058724') {'AVG_CHANGES_PER_ALTERED_READ': 2.0, 'AVG_CHANGES_PER_READ': 0.4367816091954023, 'AVG_EDITING_CHANGES_PER_ALTERED_READ': 1.0, 'AVG_EDITING_CHANGES_PER_READ': 0.26436781609195403, 'ALTERED_SITE_%_VALID_EDITING': 1.0, 'ALL_CHANGES_%_VALID_EDITING': 0.6052631578947368}\n",
      "('chr1', '220058796') {'AVG_CHANGES_PER_ALTERED_READ': 2.142857142857143, 'AVG_CHANGES_PER_READ': 1.1666666666666667, 'AVG_EDITING_CHANGES_PER_ALTERED_READ': 2.142857142857143, 'AVG_EDITING_CHANGES_PER_READ': 1.0555555555555556, 'ALTERED_SITE_%_VALID_EDITING': 1.0, 'ALL_CHANGES_%_VALID_EDITING': 0.9047619047619048}\n",
      "('chr1', '220058801') {'AVG_CHANGES_PER_ALTERED_READ': 2.0, 'AVG_CHANGES_PER_READ': 1.2424242424242424, 'AVG_EDITING_CHANGES_PER_ALTERED_READ': 2.0, 'AVG_EDITING_CHANGES_PER_READ': 1.121212121212121, 'ALTERED_SITE_%_VALID_EDITING': 1.0, 'ALL_CHANGES_%_VALID_EDITING': 0.9024390243902439}\n",
      "('chr1', '220058802') {'AVG_CHANGES_PER_ALTERED_READ': 1.8666666666666667, 'AVG_CHANGES_PER_READ': 1.2424242424242424, 'AVG_EDITING_CHANGES_PER_ALTERED_READ': 1.7333333333333334, 'AVG_EDITING_CHANGES_PER_READ': 1.121212121212121, 'ALTERED_SITE_%_VALID_EDITING': 0.9333333333333333, 'ALL_CHANGES_%_VALID_EDITING': 0.9024390243902439}\n",
      "('chr1', '220253734') {'AVG_CHANGES_PER_ALTERED_READ': 1.2619047619047619, 'AVG_CHANGES_PER_READ': 0.9298245614035088, 'AVG_EDITING_CHANGES_PER_ALTERED_READ': 1.0476190476190477, 'AVG_EDITING_CHANGES_PER_READ': 0.7719298245614035, 'ALTERED_SITE_%_VALID_EDITING': 1.0, 'ALL_CHANGES_%_VALID_EDITING': 0.8301886792452831}\n",
      "('chr1', '220254056') {'AVG_CHANGES_PER_ALTERED_READ': 1.3478260869565217, 'AVG_CHANGES_PER_READ': 1.1016949152542372, 'AVG_EDITING_CHANGES_PER_ALTERED_READ': 0.08695652173913043, 'AVG_EDITING_CHANGES_PER_READ': 0.06779661016949153, 'ALTERED_SITE_%_VALID_EDITING': 0.0, 'ALL_CHANGES_%_VALID_EDITING': 0.06153846153846154}\n",
      "('chr1', '225786879') {'AVG_CHANGES_PER_ALTERED_READ': 1.7407407407407407, 'AVG_CHANGES_PER_READ': 0.6666666666666666, 'AVG_EDITING_CHANGES_PER_ALTERED_READ': 1.7407407407407407, 'AVG_EDITING_CHANGES_PER_READ': 0.627906976744186, 'ALTERED_SITE_%_VALID_EDITING': 1.0, 'ALL_CHANGES_%_VALID_EDITING': 0.9418604651162791}\n",
      "('chr1', '225786912') {'AVG_CHANGES_PER_ALTERED_READ': 1.2301587301587302, 'AVG_CHANGES_PER_READ': 0.8019323671497585, 'AVG_EDITING_CHANGES_PER_ALTERED_READ': 1.2142857142857142, 'AVG_EDITING_CHANGES_PER_READ': 0.7729468599033816, 'ALTERED_SITE_%_VALID_EDITING': 0.6825396825396826, 'ALL_CHANGES_%_VALID_EDITING': 0.963855421686747}\n",
      "('chr1', '225786943') {'AVG_CHANGES_PER_ALTERED_READ': 2.264705882352941, 'AVG_CHANGES_PER_READ': 0.8502673796791443, 'AVG_EDITING_CHANGES_PER_ALTERED_READ': 2.2058823529411766, 'AVG_EDITING_CHANGES_PER_READ': 0.8342245989304813, 'ALTERED_SITE_%_VALID_EDITING': 0.9705882352941176, 'ALL_CHANGES_%_VALID_EDITING': 0.9811320754716981}\n",
      "('chr1', '225786970') {'AVG_CHANGES_PER_ALTERED_READ': 2.375, 'AVG_CHANGES_PER_READ': 0.7365853658536585, 'AVG_EDITING_CHANGES_PER_ALTERED_READ': 2.34375, 'AVG_EDITING_CHANGES_PER_READ': 0.7121951219512195, 'ALTERED_SITE_%_VALID_EDITING': 1.0, 'ALL_CHANGES_%_VALID_EDITING': 0.9668874172185431}\n",
      "('chr1', '225786972') {'AVG_CHANGES_PER_ALTERED_READ': 2.7, 'AVG_CHANGES_PER_READ': 0.7294685990338164, 'AVG_EDITING_CHANGES_PER_ALTERED_READ': 2.7, 'AVG_EDITING_CHANGES_PER_READ': 0.7053140096618358, 'ALTERED_SITE_%_VALID_EDITING': 1.0, 'ALL_CHANGES_%_VALID_EDITING': 0.9668874172185431}\n",
      "('chr1', '23420386') {'AVG_CHANGES_PER_ALTERED_READ': 1.6, 'AVG_CHANGES_PER_READ': 0.8666666666666667, 'AVG_EDITING_CHANGES_PER_ALTERED_READ': 1.6, 'AVG_EDITING_CHANGES_PER_READ': 0.8666666666666667, 'ALTERED_SITE_%_VALID_EDITING': 1.0, 'ALL_CHANGES_%_VALID_EDITING': 1.0}\n",
      "('chr1', '236548009') {'AVG_CHANGES_PER_ALTERED_READ': 2.0, 'AVG_CHANGES_PER_READ': 0.6153846153846154, 'AVG_EDITING_CHANGES_PER_ALTERED_READ': 0.0, 'AVG_EDITING_CHANGES_PER_READ': 0.0, 'ALTERED_SITE_%_VALID_EDITING': 0.0, 'ALL_CHANGES_%_VALID_EDITING': 0.0}\n",
      "('chr1', '2371845') {'AVG_CHANGES_PER_ALTERED_READ': 2.1052631578947367, 'AVG_CHANGES_PER_READ': 1.325, 'AVG_EDITING_CHANGES_PER_ALTERED_READ': 1.736842105263158, 'AVG_EDITING_CHANGES_PER_READ': 1.125, 'ALTERED_SITE_%_VALID_EDITING': 1.0, 'ALL_CHANGES_%_VALID_EDITING': 0.8490566037735849}\n",
      "('chr1', '23798327') {'AVG_CHANGES_PER_ALTERED_READ': 3.5, 'AVG_CHANGES_PER_READ': 1.8157894736842106, 'AVG_EDITING_CHANGES_PER_ALTERED_READ': 0.0, 'AVG_EDITING_CHANGES_PER_READ': 0.05263157894736842, 'ALTERED_SITE_%_VALID_EDITING': 0.0, 'ALL_CHANGES_%_VALID_EDITING': 0.028985507246376812}\n",
      "('chr1', '243613669') {'AVG_CHANGES_PER_ALTERED_READ': '.', 'AVG_CHANGES_PER_READ': 0.19230769230769232, 'AVG_EDITING_CHANGES_PER_ALTERED_READ': '.', 'AVG_EDITING_CHANGES_PER_READ': 0.0, 'ALTERED_SITE_%_VALID_EDITING': '.', 'ALL_CHANGES_%_VALID_EDITING': 0.0}\n",
      "('chr1', '244859272') {'AVG_CHANGES_PER_ALTERED_READ': 1.0, 'AVG_CHANGES_PER_READ': 0.13793103448275862, 'AVG_EDITING_CHANGES_PER_ALTERED_READ': 1.0, 'AVG_EDITING_CHANGES_PER_READ': 0.10344827586206896, 'ALTERED_SITE_%_VALID_EDITING': 1.0, 'ALL_CHANGES_%_VALID_EDITING': 0.75}\n",
      "('chr1', '247100415') {'AVG_CHANGES_PER_ALTERED_READ': 2.2, 'AVG_CHANGES_PER_READ': 0.5294117647058824, 'AVG_EDITING_CHANGES_PER_ALTERED_READ': 2.2, 'AVG_EDITING_CHANGES_PER_READ': 0.5294117647058824, 'ALTERED_SITE_%_VALID_EDITING': 1.0, 'ALL_CHANGES_%_VALID_EDITING': 1.0}\n",
      "('chr1', '247100417') {'AVG_CHANGES_PER_ALTERED_READ': 1.6363636363636365, 'AVG_CHANGES_PER_READ': 0.5454545454545454, 'AVG_EDITING_CHANGES_PER_ALTERED_READ': 1.6363636363636365, 'AVG_EDITING_CHANGES_PER_READ': 0.5454545454545454, 'ALTERED_SITE_%_VALID_EDITING': 1.0, 'ALL_CHANGES_%_VALID_EDITING': 1.0}\n",
      "('chr1', '247158767') {'AVG_CHANGES_PER_ALTERED_READ': 2.4, 'AVG_CHANGES_PER_READ': 0.8947368421052632, 'AVG_EDITING_CHANGES_PER_ALTERED_READ': 1.4, 'AVG_EDITING_CHANGES_PER_READ': 0.5789473684210527, 'ALTERED_SITE_%_VALID_EDITING': 1.0, 'ALL_CHANGES_%_VALID_EDITING': 0.6470588235294118}\n",
      "('chr1', '247158768') {'AVG_CHANGES_PER_ALTERED_READ': 1.6, 'AVG_CHANGES_PER_READ': 0.8947368421052632, 'AVG_EDITING_CHANGES_PER_ALTERED_READ': 1.4, 'AVG_EDITING_CHANGES_PER_READ': 0.5789473684210527, 'ALTERED_SITE_%_VALID_EDITING': 1.0, 'ALL_CHANGES_%_VALID_EDITING': 0.6470588235294118}\n",
      "('chr1', '26282375') {'AVG_CHANGES_PER_ALTERED_READ': 4.2, 'AVG_CHANGES_PER_READ': 3.8125, 'AVG_EDITING_CHANGES_PER_ALTERED_READ': 0.4, 'AVG_EDITING_CHANGES_PER_READ': 1.0625, 'ALTERED_SITE_%_VALID_EDITING': 0.0, 'ALL_CHANGES_%_VALID_EDITING': 0.2786885245901639}\n",
      "('chr1', '26282376') {'AVG_CHANGES_PER_ALTERED_READ': 4.777777777777778, 'AVG_CHANGES_PER_READ': 3.8125, 'AVG_EDITING_CHANGES_PER_ALTERED_READ': 0.5555555555555556, 'AVG_EDITING_CHANGES_PER_READ': 1.0625, 'ALTERED_SITE_%_VALID_EDITING': 0.0, 'ALL_CHANGES_%_VALID_EDITING': 0.2786885245901639}\n",
      "('chr1', '26438469') {'AVG_CHANGES_PER_ALTERED_READ': 2.4, 'AVG_CHANGES_PER_READ': 0.8235294117647058, 'AVG_EDITING_CHANGES_PER_ALTERED_READ': 2.4, 'AVG_EDITING_CHANGES_PER_READ': 0.7941176470588235, 'ALTERED_SITE_%_VALID_EDITING': 1.0, 'ALL_CHANGES_%_VALID_EDITING': 0.9642857142857143}\n",
      "('chr1', '26438470') {'AVG_CHANGES_PER_ALTERED_READ': 2.5, 'AVG_CHANGES_PER_READ': 0.8235294117647058, 'AVG_EDITING_CHANGES_PER_ALTERED_READ': 2.5, 'AVG_EDITING_CHANGES_PER_READ': 0.7941176470588235, 'ALTERED_SITE_%_VALID_EDITING': 1.0, 'ALL_CHANGES_%_VALID_EDITING': 0.9642857142857143}\n",
      "('chr1', '26438490') {'AVG_CHANGES_PER_ALTERED_READ': 1.6, 'AVG_CHANGES_PER_READ': 0.8648648648648649, 'AVG_EDITING_CHANGES_PER_ALTERED_READ': 1.6, 'AVG_EDITING_CHANGES_PER_READ': 0.8378378378378378, 'ALTERED_SITE_%_VALID_EDITING': 1.0, 'ALL_CHANGES_%_VALID_EDITING': 0.96875}\n",
      "('chr1', '26438491') {'AVG_CHANGES_PER_ALTERED_READ': 2.0, 'AVG_CHANGES_PER_READ': 0.8648648648648649, 'AVG_EDITING_CHANGES_PER_ALTERED_READ': 2.0, 'AVG_EDITING_CHANGES_PER_READ': 0.8378378378378378, 'ALTERED_SITE_%_VALID_EDITING': 1.0, 'ALL_CHANGES_%_VALID_EDITING': 0.96875}\n",
      "('chr1', '26447791') {'AVG_CHANGES_PER_ALTERED_READ': 1.3333333333333333, 'AVG_CHANGES_PER_READ': 0.47619047619047616, 'AVG_EDITING_CHANGES_PER_ALTERED_READ': 1.3333333333333333, 'AVG_EDITING_CHANGES_PER_READ': 0.47619047619047616, 'ALTERED_SITE_%_VALID_EDITING': 1.0, 'ALL_CHANGES_%_VALID_EDITING': 1.0}\n",
      "('chr1', '27412432') {'AVG_CHANGES_PER_ALTERED_READ': 5.333333333333333, 'AVG_CHANGES_PER_READ': 2.272727272727273, 'AVG_EDITING_CHANGES_PER_ALTERED_READ': 5.333333333333333, 'AVG_EDITING_CHANGES_PER_READ': 2.272727272727273, 'ALTERED_SITE_%_VALID_EDITING': 1.0, 'ALL_CHANGES_%_VALID_EDITING': 1.0}\n",
      "('chr1', '27412434') {'AVG_CHANGES_PER_ALTERED_READ': 4.166666666666667, 'AVG_CHANGES_PER_READ': 2.272727272727273, 'AVG_EDITING_CHANGES_PER_ALTERED_READ': 4.166666666666667, 'AVG_EDITING_CHANGES_PER_READ': 2.272727272727273, 'ALTERED_SITE_%_VALID_EDITING': 1.0, 'ALL_CHANGES_%_VALID_EDITING': 1.0}\n",
      "('chr1', '28459218') {'AVG_CHANGES_PER_ALTERED_READ': 2.4615384615384617, 'AVG_CHANGES_PER_READ': 0.3360655737704918, 'AVG_EDITING_CHANGES_PER_ALTERED_READ': 0.0, 'AVG_EDITING_CHANGES_PER_READ': 0.00819672131147541, 'ALTERED_SITE_%_VALID_EDITING': 0.0, 'ALL_CHANGES_%_VALID_EDITING': 0.024390243902439025}\n",
      "('chr1', '28507572') {'AVG_CHANGES_PER_ALTERED_READ': 3.5, 'AVG_CHANGES_PER_READ': 0.5833333333333334, 'AVG_EDITING_CHANGES_PER_ALTERED_READ': 0.0, 'AVG_EDITING_CHANGES_PER_READ': 0.125, 'ALTERED_SITE_%_VALID_EDITING': 0.0, 'ALL_CHANGES_%_VALID_EDITING': 0.21428571428571427}\n",
      "('chr1', '32230724') {'AVG_CHANGES_PER_ALTERED_READ': 2.5416666666666665, 'AVG_CHANGES_PER_READ': 2.0, 'AVG_EDITING_CHANGES_PER_ALTERED_READ': 0.0, 'AVG_EDITING_CHANGES_PER_READ': 0.030303030303030304, 'ALTERED_SITE_%_VALID_EDITING': 0.0, 'ALL_CHANGES_%_VALID_EDITING': 0.015151515151515152}\n",
      "('chr1', '32230737') {'AVG_CHANGES_PER_ALTERED_READ': 3.0, 'AVG_CHANGES_PER_READ': 2.3333333333333335, 'AVG_EDITING_CHANGES_PER_ALTERED_READ': 0.0, 'AVG_EDITING_CHANGES_PER_READ': 0.0, 'ALTERED_SITE_%_VALID_EDITING': 0.0, 'ALL_CHANGES_%_VALID_EDITING': 0.0}\n",
      "('chr1', '32230741') {'AVG_CHANGES_PER_ALTERED_READ': 3.0, 'AVG_CHANGES_PER_READ': 2.2903225806451615, 'AVG_EDITING_CHANGES_PER_ALTERED_READ': 0.0, 'AVG_EDITING_CHANGES_PER_READ': 0.0, 'ALTERED_SITE_%_VALID_EDITING': 0.0, 'ALL_CHANGES_%_VALID_EDITING': 0.0}\n",
      "('chr1', '32673494') {'AVG_CHANGES_PER_ALTERED_READ': 2.6666666666666665, 'AVG_CHANGES_PER_READ': 0.5882352941176471, 'AVG_EDITING_CHANGES_PER_ALTERED_READ': 2.6666666666666665, 'AVG_EDITING_CHANGES_PER_READ': 0.5294117647058824, 'ALTERED_SITE_%_VALID_EDITING': 1.0, 'ALL_CHANGES_%_VALID_EDITING': 0.9}\n",
      "('chr1', '32673502') {'AVG_CHANGES_PER_ALTERED_READ': 1.1111111111111112, 'AVG_CHANGES_PER_READ': 0.5897435897435898, 'AVG_EDITING_CHANGES_PER_ALTERED_READ': 1.0, 'AVG_EDITING_CHANGES_PER_READ': 0.5384615384615384, 'ALTERED_SITE_%_VALID_EDITING': 0.6666666666666666, 'ALL_CHANGES_%_VALID_EDITING': 0.9130434782608695}\n",
      "('chr1', '32673577') {'AVG_CHANGES_PER_ALTERED_READ': 1.1666666666666667, 'AVG_CHANGES_PER_READ': 0.8888888888888888, 'AVG_EDITING_CHANGES_PER_ALTERED_READ': 1.1666666666666667, 'AVG_EDITING_CHANGES_PER_READ': 0.8518518518518519, 'ALTERED_SITE_%_VALID_EDITING': 1.0, 'ALL_CHANGES_%_VALID_EDITING': 0.9583333333333334}\n",
      "('chr1', '32683842') {'AVG_CHANGES_PER_ALTERED_READ': 2.619047619047619, 'AVG_CHANGES_PER_READ': 1.5254237288135593, 'AVG_EDITING_CHANGES_PER_ALTERED_READ': 2.380952380952381, 'AVG_EDITING_CHANGES_PER_READ': 1.152542372881356, 'ALTERED_SITE_%_VALID_EDITING': 1.0, 'ALL_CHANGES_%_VALID_EDITING': 0.7555555555555555}\n",
      "('chr1', '32683885') {'AVG_CHANGES_PER_ALTERED_READ': 2.64, 'AVG_CHANGES_PER_READ': 2.0, 'AVG_EDITING_CHANGES_PER_ALTERED_READ': 2.58, 'AVG_EDITING_CHANGES_PER_READ': 1.9397590361445782, 'ALTERED_SITE_%_VALID_EDITING': 0.98, 'ALL_CHANGES_%_VALID_EDITING': 0.9698795180722891}\n",
      "('chr1', '32683894') {'AVG_CHANGES_PER_ALTERED_READ': 2.8947368421052633, 'AVG_CHANGES_PER_READ': 1.9294117647058824, 'AVG_EDITING_CHANGES_PER_ALTERED_READ': 2.8421052631578947, 'AVG_EDITING_CHANGES_PER_READ': 1.8705882352941177, 'ALTERED_SITE_%_VALID_EDITING': 0.5789473684210527, 'ALL_CHANGES_%_VALID_EDITING': 0.9695121951219512}\n",
      "('chr1', '32683895') {'AVG_CHANGES_PER_ALTERED_READ': 2.8125, 'AVG_CHANGES_PER_READ': 1.9294117647058824, 'AVG_EDITING_CHANGES_PER_ALTERED_READ': 2.75, 'AVG_EDITING_CHANGES_PER_READ': 1.8705882352941177, 'ALTERED_SITE_%_VALID_EDITING': 0.71875, 'ALL_CHANGES_%_VALID_EDITING': 0.9695121951219512}\n",
      "('chr1', '32683901') {'AVG_CHANGES_PER_ALTERED_READ': 2.58, 'AVG_CHANGES_PER_READ': 2.0, 'AVG_EDITING_CHANGES_PER_ALTERED_READ': 2.56, 'AVG_EDITING_CHANGES_PER_READ': 1.9855072463768115, 'ALTERED_SITE_%_VALID_EDITING': 1.0, 'ALL_CHANGES_%_VALID_EDITING': 0.9927536231884058}\n",
      "('chr1', '32683907') {'AVG_CHANGES_PER_ALTERED_READ': 3.3076923076923075, 'AVG_CHANGES_PER_READ': 1.8873239436619718, 'AVG_EDITING_CHANGES_PER_ALTERED_READ': 3.3076923076923075, 'AVG_EDITING_CHANGES_PER_READ': 1.8732394366197183, 'ALTERED_SITE_%_VALID_EDITING': 1.0, 'ALL_CHANGES_%_VALID_EDITING': 0.9925373134328358}\n",
      "('chr1', '32772284') {'AVG_CHANGES_PER_ALTERED_READ': 4.888888888888889, 'AVG_CHANGES_PER_READ': 1.5, 'AVG_EDITING_CHANGES_PER_ALTERED_READ': 0.1111111111111111, 'AVG_EDITING_CHANGES_PER_READ': 0.022727272727272728, 'ALTERED_SITE_%_VALID_EDITING': 0.1111111111111111, 'ALL_CHANGES_%_VALID_EDITING': 0.015151515151515152}\n",
      "('chr1', '33270581') {'AVG_CHANGES_PER_ALTERED_READ': 1.0, 'AVG_CHANGES_PER_READ': 0.2222222222222222, 'AVG_EDITING_CHANGES_PER_ALTERED_READ': 1.0, 'AVG_EDITING_CHANGES_PER_READ': 0.1111111111111111, 'ALTERED_SITE_%_VALID_EDITING': 1.0, 'ALL_CHANGES_%_VALID_EDITING': 0.5}\n",
      "('chr1', '35351234') {'AVG_CHANGES_PER_ALTERED_READ': 1.0, 'AVG_CHANGES_PER_READ': 0.14285714285714285, 'AVG_EDITING_CHANGES_PER_ALTERED_READ': 0.0, 'AVG_EDITING_CHANGES_PER_READ': 0.02857142857142857, 'ALTERED_SITE_%_VALID_EDITING': 0.0, 'ALL_CHANGES_%_VALID_EDITING': 0.2}\n",
      "('chr1', '35351302') {'AVG_CHANGES_PER_ALTERED_READ': 1.0769230769230769, 'AVG_CHANGES_PER_READ': 0.31666666666666665, 'AVG_EDITING_CHANGES_PER_ALTERED_READ': 0.6923076923076923, 'AVG_EDITING_CHANGES_PER_READ': 0.15, 'ALTERED_SITE_%_VALID_EDITING': 0.6923076923076923, 'ALL_CHANGES_%_VALID_EDITING': 0.47368421052631576}\n",
      "('chr1', '35351326') {'AVG_CHANGES_PER_ALTERED_READ': 2.25, 'AVG_CHANGES_PER_READ': 0.24390243902439024, 'AVG_EDITING_CHANGES_PER_ALTERED_READ': 1.5, 'AVG_EDITING_CHANGES_PER_READ': 0.14634146341463414, 'ALTERED_SITE_%_VALID_EDITING': 0.0, 'ALL_CHANGES_%_VALID_EDITING': 0.6}\n",
      "('chr1', '35381867') {'AVG_CHANGES_PER_ALTERED_READ': 1.8518518518518519, 'AVG_CHANGES_PER_READ': 1.8620689655172413, 'AVG_EDITING_CHANGES_PER_ALTERED_READ': 1.8518518518518519, 'AVG_EDITING_CHANGES_PER_READ': 1.8620689655172413, 'ALTERED_SITE_%_VALID_EDITING': 1.0, 'ALL_CHANGES_%_VALID_EDITING': 1.0}\n",
      "('chr1', '35381868') {'AVG_CHANGES_PER_ALTERED_READ': 2.0869565217391304, 'AVG_CHANGES_PER_READ': 1.8620689655172413, 'AVG_EDITING_CHANGES_PER_ALTERED_READ': 2.0869565217391304, 'AVG_EDITING_CHANGES_PER_READ': 1.8620689655172413, 'ALTERED_SITE_%_VALID_EDITING': 1.0, 'ALL_CHANGES_%_VALID_EDITING': 1.0}\n",
      "('chr1', '44776867') {'AVG_CHANGES_PER_ALTERED_READ': 1.4545454545454546, 'AVG_CHANGES_PER_READ': 0.6923076923076923, 'AVG_EDITING_CHANGES_PER_ALTERED_READ': 1.4545454545454546, 'AVG_EDITING_CHANGES_PER_READ': 0.6538461538461539, 'ALTERED_SITE_%_VALID_EDITING': 1.0, 'ALL_CHANGES_%_VALID_EDITING': 0.9444444444444444}\n",
      "('chr1', '45642502') {'AVG_CHANGES_PER_ALTERED_READ': 1.0, 'AVG_CHANGES_PER_READ': 0.5, 'AVG_EDITING_CHANGES_PER_ALTERED_READ': 0.0, 'AVG_EDITING_CHANGES_PER_READ': 0.1111111111111111, 'ALTERED_SITE_%_VALID_EDITING': 0.0, 'ALL_CHANGES_%_VALID_EDITING': 0.2222222222222222}\n",
      "('chr1', '45658901') {'AVG_CHANGES_PER_ALTERED_READ': 1.5, 'AVG_CHANGES_PER_READ': 0.5757575757575758, 'AVG_EDITING_CHANGES_PER_ALTERED_READ': 1.3, 'AVG_EDITING_CHANGES_PER_READ': 0.45454545454545453, 'ALTERED_SITE_%_VALID_EDITING': 1.0, 'ALL_CHANGES_%_VALID_EDITING': 0.7894736842105263}\n",
      "('chr1', '46185483') {'AVG_CHANGES_PER_ALTERED_READ': 1.75, 'AVG_CHANGES_PER_READ': 0.4090909090909091, 'AVG_EDITING_CHANGES_PER_ALTERED_READ': 0.25, 'AVG_EDITING_CHANGES_PER_READ': 0.045454545454545456, 'ALTERED_SITE_%_VALID_EDITING': 0.0, 'ALL_CHANGES_%_VALID_EDITING': 0.1111111111111111}\n",
      "('chr1', '51440311') {'AVG_CHANGES_PER_ALTERED_READ': 1.0, 'AVG_CHANGES_PER_READ': 0.3717948717948718, 'AVG_EDITING_CHANGES_PER_ALTERED_READ': 1.0, 'AVG_EDITING_CHANGES_PER_READ': 0.23076923076923078, 'ALTERED_SITE_%_VALID_EDITING': 1.0, 'ALL_CHANGES_%_VALID_EDITING': 0.6206896551724138}\n",
      "('chr1', '51749546') {'AVG_CHANGES_PER_ALTERED_READ': 1.8, 'AVG_CHANGES_PER_READ': 0.5217391304347826, 'AVG_EDITING_CHANGES_PER_ALTERED_READ': 1.8, 'AVG_EDITING_CHANGES_PER_READ': 0.4782608695652174, 'ALTERED_SITE_%_VALID_EDITING': 1.0, 'ALL_CHANGES_%_VALID_EDITING': 0.9166666666666666}\n",
      "('chr1', '51752485') {'AVG_CHANGES_PER_ALTERED_READ': 2.1875, 'AVG_CHANGES_PER_READ': 1.9259259259259258, 'AVG_EDITING_CHANGES_PER_ALTERED_READ': 2.125, 'AVG_EDITING_CHANGES_PER_READ': 1.8888888888888888, 'ALTERED_SITE_%_VALID_EDITING': 1.0, 'ALL_CHANGES_%_VALID_EDITING': 0.9807692307692307}\n",
      "('chr1', '51752489') {'AVG_CHANGES_PER_ALTERED_READ': 2.5, 'AVG_CHANGES_PER_READ': 2.037037037037037, 'AVG_EDITING_CHANGES_PER_ALTERED_READ': 2.5, 'AVG_EDITING_CHANGES_PER_READ': 2.0, 'ALTERED_SITE_%_VALID_EDITING': 1.0, 'ALL_CHANGES_%_VALID_EDITING': 0.9818181818181818}\n",
      "('chr1', '51752496') {'AVG_CHANGES_PER_ALTERED_READ': 3.5714285714285716, 'AVG_CHANGES_PER_READ': 2.4, 'AVG_EDITING_CHANGES_PER_ALTERED_READ': 3.5714285714285716, 'AVG_EDITING_CHANGES_PER_READ': 2.36, 'ALTERED_SITE_%_VALID_EDITING': 1.0, 'ALL_CHANGES_%_VALID_EDITING': 0.9833333333333333}\n",
      "('chr1', '51752501') {'AVG_CHANGES_PER_ALTERED_READ': 4.0, 'AVG_CHANGES_PER_READ': 2.2857142857142856, 'AVG_EDITING_CHANGES_PER_ALTERED_READ': 4.0, 'AVG_EDITING_CHANGES_PER_READ': 2.1785714285714284, 'ALTERED_SITE_%_VALID_EDITING': 1.0, 'ALL_CHANGES_%_VALID_EDITING': 0.953125}\n",
      "('chr1', '51752506') {'AVG_CHANGES_PER_ALTERED_READ': 3.5, 'AVG_CHANGES_PER_READ': 2.0277777777777777, 'AVG_EDITING_CHANGES_PER_ALTERED_READ': 3.5, 'AVG_EDITING_CHANGES_PER_READ': 1.9444444444444444, 'ALTERED_SITE_%_VALID_EDITING': 1.0, 'ALL_CHANGES_%_VALID_EDITING': 0.958904109589041}\n",
      "('chr1', '51752509') {'AVG_CHANGES_PER_ALTERED_READ': 4.142857142857143, 'AVG_CHANGES_PER_READ': 1.9736842105263157, 'AVG_EDITING_CHANGES_PER_ALTERED_READ': 4.142857142857143, 'AVG_EDITING_CHANGES_PER_READ': 1.9210526315789473, 'ALTERED_SITE_%_VALID_EDITING': 1.0, 'ALL_CHANGES_%_VALID_EDITING': 0.9733333333333334}\n",
      "('chr1', '51752518') {'AVG_CHANGES_PER_ALTERED_READ': 3.25, 'AVG_CHANGES_PER_READ': 2.1666666666666665, 'AVG_EDITING_CHANGES_PER_ALTERED_READ': 3.25, 'AVG_EDITING_CHANGES_PER_READ': 2.119047619047619, 'ALTERED_SITE_%_VALID_EDITING': 0.9166666666666666, 'ALL_CHANGES_%_VALID_EDITING': 0.978021978021978}\n",
      "('chr1', '51752522') {'AVG_CHANGES_PER_ALTERED_READ': 2.8181818181818183, 'AVG_CHANGES_PER_READ': 2.142857142857143, 'AVG_EDITING_CHANGES_PER_ALTERED_READ': 2.8181818181818183, 'AVG_EDITING_CHANGES_PER_READ': 2.0952380952380953, 'ALTERED_SITE_%_VALID_EDITING': 1.0, 'ALL_CHANGES_%_VALID_EDITING': 0.9777777777777777}\n",
      "('chr1', '51752544') {'AVG_CHANGES_PER_ALTERED_READ': 4.0, 'AVG_CHANGES_PER_READ': 1.7142857142857142, 'AVG_EDITING_CHANGES_PER_ALTERED_READ': 4.0, 'AVG_EDITING_CHANGES_PER_READ': 1.6734693877551021, 'ALTERED_SITE_%_VALID_EDITING': 1.0, 'ALL_CHANGES_%_VALID_EDITING': 0.9761904761904762}\n",
      "('chr1', '51752547') {'AVG_CHANGES_PER_ALTERED_READ': 1.9444444444444444, 'AVG_CHANGES_PER_READ': 1.7142857142857142, 'AVG_EDITING_CHANGES_PER_ALTERED_READ': 1.8888888888888888, 'AVG_EDITING_CHANGES_PER_READ': 1.6734693877551021, 'ALTERED_SITE_%_VALID_EDITING': 1.0, 'ALL_CHANGES_%_VALID_EDITING': 0.9761904761904762}\n",
      "('chr1', '51752567') {'AVG_CHANGES_PER_ALTERED_READ': 2.3, 'AVG_CHANGES_PER_READ': 1.5833333333333333, 'AVG_EDITING_CHANGES_PER_ALTERED_READ': 2.3, 'AVG_EDITING_CHANGES_PER_READ': 1.5208333333333333, 'ALTERED_SITE_%_VALID_EDITING': 0.6, 'ALL_CHANGES_%_VALID_EDITING': 0.9605263157894737}\n",
      "('chr1', '51752572') {'AVG_CHANGES_PER_ALTERED_READ': 1.9, 'AVG_CHANGES_PER_READ': 1.488888888888889, 'AVG_EDITING_CHANGES_PER_ALTERED_READ': 1.9, 'AVG_EDITING_CHANGES_PER_READ': 1.4666666666666666, 'ALTERED_SITE_%_VALID_EDITING': 0.5, 'ALL_CHANGES_%_VALID_EDITING': 0.9850746268656716}\n",
      "('chr1', '51755175') {'AVG_CHANGES_PER_ALTERED_READ': 3.1578947368421053, 'AVG_CHANGES_PER_READ': 2.3461538461538463, 'AVG_EDITING_CHANGES_PER_ALTERED_READ': 3.1578947368421053, 'AVG_EDITING_CHANGES_PER_READ': 2.326923076923077, 'ALTERED_SITE_%_VALID_EDITING': 1.0, 'ALL_CHANGES_%_VALID_EDITING': 0.9918032786885246}\n",
      "('chr1', '51755183') {'AVG_CHANGES_PER_ALTERED_READ': 5.428571428571429, 'AVG_CHANGES_PER_READ': 2.727272727272727, 'AVG_EDITING_CHANGES_PER_ALTERED_READ': 5.428571428571429, 'AVG_EDITING_CHANGES_PER_READ': 2.690909090909091, 'ALTERED_SITE_%_VALID_EDITING': 1.0, 'ALL_CHANGES_%_VALID_EDITING': 0.9866666666666667}\n",
      "('chr1', '51755184') {'AVG_CHANGES_PER_ALTERED_READ': 5.0, 'AVG_CHANGES_PER_READ': 2.826923076923077, 'AVG_EDITING_CHANGES_PER_ALTERED_READ': 5.0, 'AVG_EDITING_CHANGES_PER_READ': 2.7884615384615383, 'ALTERED_SITE_%_VALID_EDITING': 1.0, 'ALL_CHANGES_%_VALID_EDITING': 0.9863945578231292}\n",
      "('chr1', '51755186') {'AVG_CHANGES_PER_ALTERED_READ': 3.8095238095238093, 'AVG_CHANGES_PER_READ': 2.826923076923077, 'AVG_EDITING_CHANGES_PER_ALTERED_READ': 3.761904761904762, 'AVG_EDITING_CHANGES_PER_READ': 2.7884615384615383, 'ALTERED_SITE_%_VALID_EDITING': 1.0, 'ALL_CHANGES_%_VALID_EDITING': 0.9863945578231292}\n",
      "('chr1', '51755189') {'AVG_CHANGES_PER_ALTERED_READ': 4.5, 'AVG_CHANGES_PER_READ': 2.84, 'AVG_EDITING_CHANGES_PER_ALTERED_READ': 4.5, 'AVG_EDITING_CHANGES_PER_READ': 2.8, 'ALTERED_SITE_%_VALID_EDITING': 0.875, 'ALL_CHANGES_%_VALID_EDITING': 0.9859154929577465}\n",
      "('chr1', '51755195') {'AVG_CHANGES_PER_ALTERED_READ': 4.666666666666667, 'AVG_CHANGES_PER_READ': 2.9767441860465116, 'AVG_EDITING_CHANGES_PER_ALTERED_READ': 4.666666666666667, 'AVG_EDITING_CHANGES_PER_READ': 2.9302325581395348, 'ALTERED_SITE_%_VALID_EDITING': 1.0, 'ALL_CHANGES_%_VALID_EDITING': 0.984375}\n",
      "('chr1', '51755196') {'AVG_CHANGES_PER_ALTERED_READ': 4.823529411764706, 'AVG_CHANGES_PER_READ': 3.073170731707317, 'AVG_EDITING_CHANGES_PER_ALTERED_READ': 4.823529411764706, 'AVG_EDITING_CHANGES_PER_READ': 3.024390243902439, 'ALTERED_SITE_%_VALID_EDITING': 1.0, 'ALL_CHANGES_%_VALID_EDITING': 0.9841269841269841}\n",
      "('chr1', '51755204') {'AVG_CHANGES_PER_ALTERED_READ': 4.181818181818182, 'AVG_CHANGES_PER_READ': 3.1578947368421053, 'AVG_EDITING_CHANGES_PER_ALTERED_READ': 4.181818181818182, 'AVG_EDITING_CHANGES_PER_READ': 3.1052631578947367, 'ALTERED_SITE_%_VALID_EDITING': 0.9090909090909091, 'ALL_CHANGES_%_VALID_EDITING': 0.9833333333333333}\n",
      "('chr1', '51755205') {'AVG_CHANGES_PER_ALTERED_READ': 4.666666666666667, 'AVG_CHANGES_PER_READ': 3.1621621621621623, 'AVG_EDITING_CHANGES_PER_ALTERED_READ': 4.666666666666667, 'AVG_EDITING_CHANGES_PER_READ': 3.108108108108108, 'ALTERED_SITE_%_VALID_EDITING': 1.0, 'ALL_CHANGES_%_VALID_EDITING': 0.9829059829059829}\n",
      "('chr1', '51755206') {'AVG_CHANGES_PER_ALTERED_READ': 4.4, 'AVG_CHANGES_PER_READ': 3.1621621621621623, 'AVG_EDITING_CHANGES_PER_ALTERED_READ': 4.3, 'AVG_EDITING_CHANGES_PER_READ': 3.108108108108108, 'ALTERED_SITE_%_VALID_EDITING': 1.0, 'ALL_CHANGES_%_VALID_EDITING': 0.9829059829059829}\n",
      "('chr1', '51755224') {'AVG_CHANGES_PER_ALTERED_READ': 6.166666666666667, 'AVG_CHANGES_PER_READ': 3.0714285714285716, 'AVG_EDITING_CHANGES_PER_ALTERED_READ': 6.0, 'AVG_EDITING_CHANGES_PER_READ': 3.0357142857142856, 'ALTERED_SITE_%_VALID_EDITING': 1.0, 'ALL_CHANGES_%_VALID_EDITING': 0.9883720930232558}\n",
      "('chr1', '51755229') {'AVG_CHANGES_PER_ALTERED_READ': 7.75, 'AVG_CHANGES_PER_READ': 3.185185185185185, 'AVG_EDITING_CHANGES_PER_ALTERED_READ': 7.75, 'AVG_EDITING_CHANGES_PER_READ': 3.1481481481481484, 'ALTERED_SITE_%_VALID_EDITING': 1.0, 'ALL_CHANGES_%_VALID_EDITING': 0.9883720930232558}\n",
      "('chr1', '61455513') {'AVG_CHANGES_PER_ALTERED_READ': 3.4166666666666665, 'AVG_CHANGES_PER_READ': 1.7169811320754718, 'AVG_EDITING_CHANGES_PER_ALTERED_READ': 0.08333333333333333, 'AVG_EDITING_CHANGES_PER_READ': 0.05660377358490566, 'ALTERED_SITE_%_VALID_EDITING': 0.08333333333333333, 'ALL_CHANGES_%_VALID_EDITING': 0.03296703296703297}\n",
      "('chr1', '61455527') {'AVG_CHANGES_PER_ALTERED_READ': 1.9230769230769231, 'AVG_CHANGES_PER_READ': 1.9361702127659575, 'AVG_EDITING_CHANGES_PER_ALTERED_READ': 0.07692307692307693, 'AVG_EDITING_CHANGES_PER_READ': 0.06382978723404255, 'ALTERED_SITE_%_VALID_EDITING': 0.0, 'ALL_CHANGES_%_VALID_EDITING': 0.03296703296703297}\n",
      "('chr1', '61952282') {'AVG_CHANGES_PER_ALTERED_READ': 3.0, 'AVG_CHANGES_PER_READ': 1.6129032258064515, 'AVG_EDITING_CHANGES_PER_ALTERED_READ': 2.0, 'AVG_EDITING_CHANGES_PER_READ': 1.2903225806451613, 'ALTERED_SITE_%_VALID_EDITING': 1.0, 'ALL_CHANGES_%_VALID_EDITING': 0.8}\n",
      "('chr1', '61952284') {'AVG_CHANGES_PER_ALTERED_READ': 3.0, 'AVG_CHANGES_PER_READ': 1.5625, 'AVG_EDITING_CHANGES_PER_ALTERED_READ': 2.0, 'AVG_EDITING_CHANGES_PER_READ': 1.25, 'ALTERED_SITE_%_VALID_EDITING': 0.0, 'ALL_CHANGES_%_VALID_EDITING': 0.8}\n",
      "('chr1', '62054278') {'AVG_CHANGES_PER_ALTERED_READ': 1.5, 'AVG_CHANGES_PER_READ': 0.38461538461538464, 'AVG_EDITING_CHANGES_PER_ALTERED_READ': 1.5, 'AVG_EDITING_CHANGES_PER_READ': 0.38461538461538464, 'ALTERED_SITE_%_VALID_EDITING': 1.0, 'ALL_CHANGES_%_VALID_EDITING': 1.0}\n",
      "('chr1', '62054307') {'AVG_CHANGES_PER_ALTERED_READ': 1.25, 'AVG_CHANGES_PER_READ': 0.5, 'AVG_EDITING_CHANGES_PER_ALTERED_READ': 1.25, 'AVG_EDITING_CHANGES_PER_READ': 0.4166666666666667, 'ALTERED_SITE_%_VALID_EDITING': 1.0, 'ALL_CHANGES_%_VALID_EDITING': 0.8333333333333334}\n",
      "('chr1', '62162786') {'AVG_CHANGES_PER_ALTERED_READ': '.', 'AVG_CHANGES_PER_READ': 0.24324324324324326, 'AVG_EDITING_CHANGES_PER_ALTERED_READ': '.', 'AVG_EDITING_CHANGES_PER_READ': 0.16216216216216217, 'ALTERED_SITE_%_VALID_EDITING': '.', 'ALL_CHANGES_%_VALID_EDITING': 0.6666666666666666}\n",
      "('chr1', '62162850') {'AVG_CHANGES_PER_ALTERED_READ': 1.4285714285714286, 'AVG_CHANGES_PER_READ': 0.28888888888888886, 'AVG_EDITING_CHANGES_PER_ALTERED_READ': 1.2857142857142858, 'AVG_EDITING_CHANGES_PER_READ': 0.2222222222222222, 'ALTERED_SITE_%_VALID_EDITING': 1.0, 'ALL_CHANGES_%_VALID_EDITING': 0.7692307692307693}\n",
      "('chr1', '62162857') {'AVG_CHANGES_PER_ALTERED_READ': 2.0, 'AVG_CHANGES_PER_READ': 0.26785714285714285, 'AVG_EDITING_CHANGES_PER_ALTERED_READ': 2.0, 'AVG_EDITING_CHANGES_PER_READ': 0.21428571428571427, 'ALTERED_SITE_%_VALID_EDITING': 1.0, 'ALL_CHANGES_%_VALID_EDITING': 0.8}\n",
      "('chr1', '62162859') {'AVG_CHANGES_PER_ALTERED_READ': 2.0, 'AVG_CHANGES_PER_READ': 0.2692307692307692, 'AVG_EDITING_CHANGES_PER_ALTERED_READ': 2.0, 'AVG_EDITING_CHANGES_PER_READ': 0.23076923076923078, 'ALTERED_SITE_%_VALID_EDITING': 1.0, 'ALL_CHANGES_%_VALID_EDITING': 0.8571428571428571}\n",
      "('chr1', '62162897') {'AVG_CHANGES_PER_ALTERED_READ': 1.0, 'AVG_CHANGES_PER_READ': 0.13333333333333333, 'AVG_EDITING_CHANGES_PER_ALTERED_READ': 1.0, 'AVG_EDITING_CHANGES_PER_READ': 0.13333333333333333, 'ALTERED_SITE_%_VALID_EDITING': 0.5, 'ALL_CHANGES_%_VALID_EDITING': 1.0}\n",
      "('chr1', '62162934') {'AVG_CHANGES_PER_ALTERED_READ': 0.5714285714285714, 'AVG_CHANGES_PER_READ': 0.09782608695652174, 'AVG_EDITING_CHANGES_PER_ALTERED_READ': 0.5714285714285714, 'AVG_EDITING_CHANGES_PER_READ': 0.07608695652173914, 'ALTERED_SITE_%_VALID_EDITING': 0.14285714285714285, 'ALL_CHANGES_%_VALID_EDITING': 0.7777777777777778}\n",
      "('chr1', '62162935') {'AVG_CHANGES_PER_ALTERED_READ': 0.8571428571428571, 'AVG_CHANGES_PER_READ': 0.1, 'AVG_EDITING_CHANGES_PER_ALTERED_READ': 0.8571428571428571, 'AVG_EDITING_CHANGES_PER_READ': 0.07777777777777778, 'ALTERED_SITE_%_VALID_EDITING': 0.2857142857142857, 'ALL_CHANGES_%_VALID_EDITING': 0.7777777777777778}\n",
      "('chr1', '68133063') {'AVG_CHANGES_PER_ALTERED_READ': 2.8, 'AVG_CHANGES_PER_READ': 2.3, 'AVG_EDITING_CHANGES_PER_ALTERED_READ': 0.0, 'AVG_EDITING_CHANGES_PER_READ': 0.3, 'ALTERED_SITE_%_VALID_EDITING': 0.0, 'ALL_CHANGES_%_VALID_EDITING': 0.13043478260869565}\n",
      "('chr1', '77631849') {'AVG_CHANGES_PER_ALTERED_READ': 1.0, 'AVG_CHANGES_PER_READ': 0.14285714285714285, 'AVG_EDITING_CHANGES_PER_ALTERED_READ': 0.0, 'AVG_EDITING_CHANGES_PER_READ': 0.011904761904761904, 'ALTERED_SITE_%_VALID_EDITING': 0.0, 'ALL_CHANGES_%_VALID_EDITING': 0.08333333333333333}\n",
      "('chr1', '7777079') {'AVG_CHANGES_PER_ALTERED_READ': 1.0, 'AVG_CHANGES_PER_READ': 0.047619047619047616, 'AVG_EDITING_CHANGES_PER_ALTERED_READ': 1.0, 'AVG_EDITING_CHANGES_PER_READ': 0.047619047619047616, 'ALTERED_SITE_%_VALID_EDITING': 1.0, 'ALL_CHANGES_%_VALID_EDITING': 1.0}\n",
      "('chr1', '8786214') {'AVG_CHANGES_PER_ALTERED_READ': 2.0, 'AVG_CHANGES_PER_READ': 0.23529411764705882, 'AVG_EDITING_CHANGES_PER_ALTERED_READ': 0.0, 'AVG_EDITING_CHANGES_PER_READ': 0.0, 'ALTERED_SITE_%_VALID_EDITING': 0.0, 'ALL_CHANGES_%_VALID_EDITING': 0.0}\n",
      "('chr1', '8786223') {'AVG_CHANGES_PER_ALTERED_READ': 2.0, 'AVG_CHANGES_PER_READ': 0.24324324324324326, 'AVG_EDITING_CHANGES_PER_ALTERED_READ': 0.0, 'AVG_EDITING_CHANGES_PER_READ': 0.0, 'ALTERED_SITE_%_VALID_EDITING': 0.0, 'ALL_CHANGES_%_VALID_EDITING': 0.0}\n",
      "('chr1', '89020144') {'AVG_CHANGES_PER_ALTERED_READ': 1.6875, 'AVG_CHANGES_PER_READ': 0.4634146341463415, 'AVG_EDITING_CHANGES_PER_ALTERED_READ': 1.625, 'AVG_EDITING_CHANGES_PER_READ': 0.3902439024390244, 'ALTERED_SITE_%_VALID_EDITING': 1.0, 'ALL_CHANGES_%_VALID_EDITING': 0.8421052631578947}\n",
      "('chr1', '89020153') {'AVG_CHANGES_PER_ALTERED_READ': 2.25, 'AVG_CHANGES_PER_READ': 0.4111111111111111, 'AVG_EDITING_CHANGES_PER_ALTERED_READ': 2.25, 'AVG_EDITING_CHANGES_PER_READ': 0.36666666666666664, 'ALTERED_SITE_%_VALID_EDITING': 0.875, 'ALL_CHANGES_%_VALID_EDITING': 0.8918918918918919}\n",
      "('chr1', '89020203') {'AVG_CHANGES_PER_ALTERED_READ': 1.2, 'AVG_CHANGES_PER_READ': 0.4406779661016949, 'AVG_EDITING_CHANGES_PER_ALTERED_READ': 1.2, 'AVG_EDITING_CHANGES_PER_READ': 0.423728813559322, 'ALTERED_SITE_%_VALID_EDITING': 0.9, 'ALL_CHANGES_%_VALID_EDITING': 0.9615384615384616}\n",
      "('chr1', '89104384') {'AVG_CHANGES_PER_ALTERED_READ': 1.125, 'AVG_CHANGES_PER_READ': 0.6091954022988506, 'AVG_EDITING_CHANGES_PER_ALTERED_READ': 0.025, 'AVG_EDITING_CHANGES_PER_READ': 0.011494252873563218, 'ALTERED_SITE_%_VALID_EDITING': 0.0, 'ALL_CHANGES_%_VALID_EDITING': 0.018867924528301886}\n",
      "('chr1', '89186404') {'AVG_CHANGES_PER_ALTERED_READ': 7.884615384615385, 'AVG_CHANGES_PER_READ': 2.7012987012987013, 'AVG_EDITING_CHANGES_PER_ALTERED_READ': 1.7564102564102564, 'AVG_EDITING_CHANGES_PER_READ': 0.5930735930735931, 'ALTERED_SITE_%_VALID_EDITING': 0.0, 'ALL_CHANGES_%_VALID_EDITING': 0.21955128205128205}\n",
      "('chr1', '89186405') {'AVG_CHANGES_PER_ALTERED_READ': 7.884615384615385, 'AVG_CHANGES_PER_READ': 2.7012987012987013, 'AVG_EDITING_CHANGES_PER_ALTERED_READ': 1.7564102564102564, 'AVG_EDITING_CHANGES_PER_READ': 0.5930735930735931, 'ALTERED_SITE_%_VALID_EDITING': 0.0, 'ALL_CHANGES_%_VALID_EDITING': 0.21955128205128205}\n",
      "('chr1', '89186407') {'AVG_CHANGES_PER_ALTERED_READ': 7.162790697674419, 'AVG_CHANGES_PER_READ': 2.689655172413793, 'AVG_EDITING_CHANGES_PER_ALTERED_READ': 1.5930232558139534, 'AVG_EDITING_CHANGES_PER_READ': 0.5905172413793104, 'ALTERED_SITE_%_VALID_EDITING': 0.0, 'ALL_CHANGES_%_VALID_EDITING': 0.21955128205128205}\n",
      "('chr1', '94917133') {'AVG_CHANGES_PER_ALTERED_READ': 3.0833333333333335, 'AVG_CHANGES_PER_READ': 1.2285714285714286, 'AVG_EDITING_CHANGES_PER_ALTERED_READ': 3.0833333333333335, 'AVG_EDITING_CHANGES_PER_READ': 1.1285714285714286, 'ALTERED_SITE_%_VALID_EDITING': 1.0, 'ALL_CHANGES_%_VALID_EDITING': 0.9186046511627907}\n",
      "('chr1', '94917139') {'AVG_CHANGES_PER_ALTERED_READ': 2.1, 'AVG_CHANGES_PER_READ': 1.328125, 'AVG_EDITING_CHANGES_PER_ALTERED_READ': 1.85, 'AVG_EDITING_CHANGES_PER_READ': 1.21875, 'ALTERED_SITE_%_VALID_EDITING': 0.7, 'ALL_CHANGES_%_VALID_EDITING': 0.9176470588235294}\n"
     ]
    }
   ],
   "source": [
    "for k, v in annotations.items():\n",
    "    print(k, v)"
   ]
  },
  {
   "cell_type": "code",
   "execution_count": null,
   "metadata": {},
   "outputs": [],
   "source": [
    "rc.get_reads('chr1', 147178361)"
   ]
  },
  {
   "cell_type": "code",
   "execution_count": null,
   "metadata": {},
   "outputs": [],
   "source": [
    "read_tups_to_reference_seq.keys()"
   ]
  },
  {
   "cell_type": "code",
   "execution_count": null,
   "metadata": {},
   "outputs": [],
   "source": [
    "read_tups_to_reference_seq[('chr1', '1483003', '75M',\n",
    "                            'GAAAAAAATGGCCAGGCGGTAGTGGCTCAGGCCTGTAATCCCAGCATTTTCGGAGGCGGAGGTGGGCGGATCGCG')]"
   ]
  },
  {
   "cell_type": "code",
   "execution_count": null,
   "metadata": {},
   "outputs": [],
   "source": [
    "len('GAAAAAAATGGCCAGGCGGTAGTGGCTCAGGCCTGTAATCCCAGCATTTTCGGAGGCGGAGGTGGGCGGATCACGA')"
   ]
  },
  {
   "cell_type": "code",
   "execution_count": null,
   "metadata": {},
   "outputs": [],
   "source": [
    "len(rc.get_reads('chr1', 100393745))"
   ]
  },
  {
   "cell_type": "code",
   "execution_count": null,
   "metadata": {},
   "outputs": [],
   "source": [
    "rc.get_reads('chr1', 100393745)"
   ]
  },
  {
   "cell_type": "code",
   "execution_count": null,
   "metadata": {},
   "outputs": [],
   "source": []
  },
  {
   "cell_type": "code",
   "execution_count": null,
   "metadata": {},
   "outputs": [],
   "source": [
    "annotations[('chr1', '100393745')]"
   ]
  },
  {
   "cell_type": "code",
   "execution_count": null,
   "metadata": {},
   "outputs": [],
   "source": [
    "position_to_data_dict[('chr1', '100393745')]"
   ]
  },
  {
   "cell_type": "code",
   "execution_count": null,
   "metadata": {},
   "outputs": [],
   "source": [
    "def count_mismatches(s1, s2):\n",
    "    total = 0\n",
    "    for a, b in zip(s1, s2):\n",
    "        if a != b:\n",
    "            total += 1\n",
    "    \n",
    "    return total"
   ]
  },
  {
   "cell_type": "code",
   "execution_count": null,
   "metadata": {},
   "outputs": [],
   "source": [
    "a.difference(b)"
   ]
  },
  {
   "cell_type": "code",
   "execution_count": null,
   "metadata": {},
   "outputs": [],
   "source": [
    "a = '50S20=20S'"
   ]
  },
  {
   "cell_type": "code",
   "execution_count": null,
   "metadata": {},
   "outputs": [],
   "source": [
    "a.split(re.compile(r'M|X|=|N|D|I|S|H|P'))"
   ]
  },
  {
   "cell_type": "code",
   "execution_count": null,
   "metadata": {},
   "outputs": [],
   "source": [
    "re.split(re.compile(r'M|X|=|N|D|I|S|H|P'), a)"
   ]
  },
  {
   "cell_type": "code",
   "execution_count": null,
   "metadata": {},
   "outputs": [],
   "source": [
    "re.split(re.compile(r'[0-9]+'), a)"
   ]
  },
  {
   "cell_type": "code",
   "execution_count": null,
   "metadata": {},
   "outputs": [],
   "source": []
  },
  {
   "cell_type": "code",
   "execution_count": null,
   "metadata": {},
   "outputs": [],
   "source": []
  }
 ],
 "metadata": {
  "kernelspec": {
   "display_name": "Python 3",
   "language": "python",
   "name": "python3"
  },
  "language_info": {
   "codemirror_mode": {
    "name": "ipython",
    "version": 3
   },
   "file_extension": ".py",
   "mimetype": "text/x-python",
   "name": "python",
   "nbconvert_exporter": "python",
   "pygments_lexer": "ipython3",
   "version": "3.6.8"
  }
 },
 "nbformat": 4,
 "nbformat_minor": 2
}
