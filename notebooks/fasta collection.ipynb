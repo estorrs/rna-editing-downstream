{
 "cells": [
  {
   "cell_type": "code",
   "execution_count": 1,
   "metadata": {},
   "outputs": [],
   "source": [
    "TEST_BAM = '/gscmnt/gc2686/rna_editing/data/cptac3/ccrcc/C3L-00004.T.bam'\n",
    "TEST_POSITIONS = 'positions.bed'"
   ]
  },
  {
   "cell_type": "code",
   "execution_count": 2,
   "metadata": {},
   "outputs": [],
   "source": [
    "import sys\n",
    "sys.path.insert(0, '../rna-editing-downstream')"
   ]
  },
  {
   "cell_type": "code",
   "execution_count": 12,
   "metadata": {},
   "outputs": [],
   "source": [
    "import sortedcontainers\n",
    "import bam_utils\n",
    "import subprocess\n",
    "import re"
   ]
  },
  {
   "cell_type": "code",
   "execution_count": 14,
   "metadata": {},
   "outputs": [],
   "source": [
    "def get_chrom_start_cigar_seq_read_tups(input_bam_fp, positions_fp, max_depth=10000):\n",
    "    print('first')\n",
    "    tool_args = ['samtools', 'view',\n",
    "            '-L', positions_fp,\n",
    "            input_bam_fp]\n",
    "    print(tool_args)\n",
    "    ps_1 = subprocess.Popen(tool_args, stdout=subprocess.PIPE)\n",
    "    output = subprocess.check_output(('cut', '-f', '3,4,6,10'), stdin=ps_1.stdout).decode('utf-8')\n",
    "    ps_1.wait()\n",
    "\n",
    "    print('here')\n",
    "\n",
    "    read_tups = []\n",
    "    for line in output.split('\\n'):\n",
    "        if line:\n",
    "            pieces = line.split('\\t')\n",
    "            chrom, pos, cigar, seq = pieces[0], pieces[1], pieces[2], pieces[3]\n",
    "            read_tups.append((chrom, pos, cigar, seq))\n",
    "\n",
    "    return read_tups"
   ]
  },
  {
   "cell_type": "code",
   "execution_count": 10,
   "metadata": {},
   "outputs": [],
   "source": [
    "def join_segments(start, stop, seq, segment_first, segment_last):\n",
    "    segment = {\n",
    "        'start': start,\n",
    "        'stop': stop,\n",
    "        'sequence': seq\n",
    "    }\n",
    "    if start <= segment_first['start']:\n",
    "        segment['start'] = start\n",
    "    else:\n",
    "        segment['start'] = segment_first['start']\n",
    "#         if stop <= segment_first['stop']:\n",
    "        segment['sequence'] = segment_first['sequence'][:start - segment_first['start']] + segment['sequence']\n",
    "        \n",
    "    if stop >= segment_last['stop']:\n",
    "        segment['stop'] = stop    \n",
    "    else:\n",
    "        segment['stop'] = segment_last['stop']\n",
    "#         if \n",
    "        cut_index = len(segment_last['sequence']) - (segment_last['stop'] - stop)\n",
    "        segment['sequence'] = segment['sequence'] + segment_last['sequence'][cut_index:]\n",
    "        \n",
    "    return segment\n",
    "\n",
    "class ReferenceCollection(object):\n",
    "    def __init__(self):\n",
    "        self.chrom_to_sorted_segments = {}\n",
    "    \n",
    "    def put_sequence(self, chrom, start, stop, sequence):\n",
    "        start, stop = int(start), int(stop)\n",
    "        if chrom not in self.chrom_to_sorted_segments:\n",
    "            d = sortedcontainers.SortedDict()\n",
    "            d[start] = {\n",
    "                'start': start,\n",
    "                'stop': stop,\n",
    "                'sequence': sequence\n",
    "            }\n",
    "            \n",
    "            self.chrom_to_sorted_segments[chrom] = d\n",
    "        else:\n",
    "            d = self.chrom_to_sorted_segments[chrom]\n",
    "            i, j = d.bisect_left(start), d.bisect_right(stop)\n",
    "            \n",
    "            # if start == stop then we need to add a new segment\n",
    "            # otherwise we need to combine segments\n",
    "            if i == j:\n",
    "                print('here')\n",
    "                d[start] = {\n",
    "                    'start': start,\n",
    "                    'stop': stop,\n",
    "                    'sequence': sequence\n",
    "                }\n",
    "            else:\n",
    "                segments = list(d.items())[i:j]\n",
    "                segment_first_start, segment_first = segments[0]\n",
    "                segment_last_start, segment_last = segments[-1]\n",
    "                \n",
    "                segment = join_segments(start, stop, seq,\n",
    "                        segment_first, segment_last)\n",
    "                \n",
    "                # remove old segments\n",
    "                for k, _ in segments:\n",
    "                    d.pop(k)\n",
    "                \n",
    "                d[segment['start']] = segment\n",
    "                \n",
    "    def get_sequence(self, chrom, start, stop):\n",
    "        pass\n",
    "    \n",
    "#     def __str__(self):\n",
    "#         return self.chrom_to_sorted_segments"
   ]
  },
  {
   "cell_type": "code",
   "execution_count": 8,
   "metadata": {},
   "outputs": [
    {
     "data": {
      "text/plain": [
       "('/gscmnt/gc2686/rna_editing/data/cptac3/ccrcc/C3L-00004.T.bam',\n",
       " 'positions.bed')"
      ]
     },
     "execution_count": 8,
     "metadata": {},
     "output_type": "execute_result"
    }
   ],
   "source": [
    "TEST_BAM, TEST_POSITIONS"
   ]
  },
  {
   "cell_type": "code",
   "execution_count": 15,
   "metadata": {},
   "outputs": [
    {
     "name": "stdout",
     "output_type": "stream",
     "text": [
      "first\n",
      "['samtools', 'view', '-L', 'positions.bed', '/gscmnt/gc2686/rna_editing/data/cptac3/ccrcc/C3L-00004.T.bam']\n",
      "here\n"
     ]
    },
    {
     "data": {
      "text/plain": [
       "[]"
      ]
     },
     "execution_count": 15,
     "metadata": {},
     "output_type": "execute_result"
    }
   ],
   "source": [
    "get_chrom_start_cigar_seq_read_tups(TEST_BAM, TEST_POSITIONS)"
   ]
  },
  {
   "cell_type": "code",
   "execution_count": null,
   "metadata": {},
   "outputs": [],
   "source": [
    "!samtools view -L positions.bed /gscmnt/g"
   ]
  },
  {
   "cell_type": "code",
   "execution_count": 5,
   "metadata": {},
   "outputs": [],
   "source": [
    "read_tups = bam_utils.get_chrom_start_cigar_seq_read_tups(TEST_BAM, TEST_POSITIONS)"
   ]
  },
  {
   "cell_type": "code",
   "execution_count": 6,
   "metadata": {},
   "outputs": [
    {
     "data": {
      "text/plain": [
       "[]"
      ]
     },
     "execution_count": 6,
     "metadata": {},
     "output_type": "execute_result"
    }
   ],
   "source": [
    "read_tups"
   ]
  },
  {
   "cell_type": "code",
   "execution_count": null,
   "metadata": {},
   "outputs": [],
   "source": [
    "# sequences = [\n",
    "#     ('chr1', 11, 100, 'abcde' * 18),\n",
    "#     ('chr1', 105, 110, 'helllo'),\n",
    "#     ('chr1', 5, 15, 'hellloabcde'),\n",
    "#     ('chr1', 110, 115, 'abcdehello'),\n",
    "# ]\n",
    "rc = ReferenceCollection()\n",
    "\n",
    "for chrom, start, cigar, seq in read_tups:\n",
    "    stop = start + len(seq)\n",
    "    print(chrom, start, stop, seq)\n",
    "    rc.put_sequence(chrom, start, stop, seq)"
   ]
  },
  {
   "cell_type": "code",
   "execution_count": null,
   "metadata": {},
   "outputs": [],
   "source": [
    "rc.chrom_to_sorted_segments"
   ]
  },
  {
   "cell_type": "code",
   "execution_count": null,
   "metadata": {},
   "outputs": [],
   "source": [
    "d = sortedcontainers.SortedDict({\n",
    "    1: 'hello',\n",
    "    10: 'world',\n",
    "    100: '!',\n",
    "    2: 'poop'\n",
    "})"
   ]
  },
  {
   "cell_type": "code",
   "execution_count": null,
   "metadata": {},
   "outputs": [],
   "source": [
    "ks = d.keys()"
   ]
  },
  {
   "cell_type": "code",
   "execution_count": null,
   "metadata": {},
   "outputs": [],
   "source": [
    "i = d.bisect_left(11)\n",
    "j = d.bisect_right(999)\n",
    "i, j"
   ]
  },
  {
   "cell_type": "code",
   "execution_count": null,
   "metadata": {},
   "outputs": [],
   "source": [
    "d.values()[i]"
   ]
  },
  {
   "cell_type": "code",
   "execution_count": null,
   "metadata": {},
   "outputs": [],
   "source": [
    "for k, s in list(d.items())[i:j]:\n",
    "    print(k, s)"
   ]
  },
  {
   "cell_type": "code",
   "execution_count": null,
   "metadata": {},
   "outputs": [],
   "source": []
  }
 ],
 "metadata": {
  "kernelspec": {
   "display_name": "Python 3",
   "language": "python",
   "name": "python3"
  },
  "language_info": {
   "codemirror_mode": {
    "name": "ipython",
    "version": 3
   },
   "file_extension": ".py",
   "mimetype": "text/x-python",
   "name": "python",
   "nbconvert_exporter": "python",
   "pygments_lexer": "ipython3",
   "version": "3.6.8"
  }
 },
 "nbformat": 4,
 "nbformat_minor": 2
}
